{
 "cells": [
  {
   "cell_type": "code",
   "execution_count": 1,
   "id": "4844557c",
   "metadata": {
    "_cell_guid": "b1076dfc-b9ad-4769-8c92-a6c4dae69d19",
    "_uuid": "8f2839f25d086af736a60e9eeb907d3b93b6e0e5",
    "execution": {
     "iopub.execute_input": "2022-12-02T19:30:30.058183Z",
     "iopub.status.busy": "2022-12-02T19:30:30.057691Z",
     "iopub.status.idle": "2022-12-02T19:30:30.083808Z",
     "shell.execute_reply": "2022-12-02T19:30:30.082550Z"
    },
    "papermill": {
     "duration": 0.04575,
     "end_time": "2022-12-02T19:30:30.086560",
     "exception": false,
     "start_time": "2022-12-02T19:30:30.040810",
     "status": "completed"
    },
    "tags": []
   },
   "outputs": [
    {
     "name": "stdout",
     "output_type": "stream",
     "text": [
      "/kaggle/input/ai2-cohort-5-homework-contest/sample_submission .csv\n",
      "/kaggle/input/ai2-cohort-5-homework-contest/kmnist_test.csv/kmnist_test.csv\n",
      "/kaggle/input/ai2-cohort-5-homework-contest/kmnist_train.csv/kmnist_train.csv\n"
     ]
    }
   ],
   "source": [
    "# This Python 3 environment comes with many helpful analytics libraries installed\n",
    "# It is defined by the kaggle/python Docker image: https://github.com/kaggle/docker-python\n",
    "# For example, here's several helpful packages to load\n",
    "\n",
    "import numpy as np # linear algebra\n",
    "import pandas as pd # data processing, CSV file I/O (e.g. pd.read_csv)\n",
    "\n",
    "# Input data files are available in the read-only \"../input/\" directory\n",
    "# For example, running this (by clicking run or pressing Shift+Enter) will list all files under the input directory\n",
    "\n",
    "import os\n",
    "for dirname, _, filenames in os.walk('/kaggle/input'):\n",
    "    for filename in filenames:\n",
    "        print(os.path.join(dirname, filename))\n",
    "\n",
    "# You can write up to 20GB to the current directory (/kaggle/working/) that gets preserved as output when you create a version using \"Save & Run All\" \n",
    "# You can also write temporary files to /kaggle/temp/, but they won't be saved outside of the current session"
   ]
  },
  {
   "cell_type": "code",
   "execution_count": 2,
   "id": "56bffdde",
   "metadata": {
    "execution": {
     "iopub.execute_input": "2022-12-02T19:30:30.122463Z",
     "iopub.status.busy": "2022-12-02T19:30:30.121668Z",
     "iopub.status.idle": "2022-12-02T19:30:38.413998Z",
     "shell.execute_reply": "2022-12-02T19:30:38.412489Z"
    },
    "papermill": {
     "duration": 8.315675,
     "end_time": "2022-12-02T19:30:38.416833",
     "exception": false,
     "start_time": "2022-12-02T19:30:30.101158",
     "status": "completed"
    },
    "tags": []
   },
   "outputs": [],
   "source": [
    "import pathlib\n",
    "import tensorflow as tf\n",
    "import matplotlib.pyplot as plt\n",
    "import seaborn as sns\n",
    "import numpy as np\n",
    "import pandas as pd\n",
    "import os\n",
    "import PIL\n",
    "import cv2\n",
    "from tensorflow import keras\n",
    "from tensorflow.keras import layers\n",
    "from tensorflow.keras.utils import to_categorical\n",
    "from tensorflow.keras.models import Sequential\n",
    "from tensorflow.keras.preprocessing import image_dataset_from_directory\n",
    "from sklearn.model_selection import train_test_split\n",
    "from keras.preprocessing.image import ImageDataGenerator\n",
    "from keras.layers import Conv2D, MaxPooling2D, Dense, Dropout, Flatten\n",
    "from tensorflow.keras.callbacks import ReduceLROnPlateau,EarlyStopping\n",
    "from keras.layers import BatchNormalization\n",
    "\n",
    "import warnings\n",
    "warnings.filterwarnings('ignore')"
   ]
  },
  {
   "cell_type": "markdown",
   "id": "4bab22ac",
   "metadata": {
    "papermill": {
     "duration": 0.013495,
     "end_time": "2022-12-02T19:30:38.444324",
     "exception": false,
     "start_time": "2022-12-02T19:30:38.430829",
     "status": "completed"
    },
    "tags": []
   },
   "source": [
    "<div class=\"alert alert-block alert-danger\" style=\"color:black;background-color:#E7F4FA\">\n",
    "\n",
    "<h1>PART 2.1 [30 pts]: Kannada MNIST Kaggle competition using ANNs </h1>\n",
    "\n",
    "[Return to contents](#contents)\n",
    "\n",
    "\n",
    "<a id=\"part2.1intro\"></a>\n",
    "<h2> Problem Statement </h2>\n",
    "\n",
    "ANNs can be prone to overfitting, where they learn specific patterns present in the training data, but the patterns do not generalize to new data.\n",
    "\n",
    "There are several methods used to improve ANN generalization. \n",
    "\n",
    "One approach is to use an architecture just barely wide or deep enough to fit the data. The idea here is that smaller networks are less expressive and thus less able to overfit the data.\n",
    "\n",
    "However, it is difficult to know a priori the correct size of the ANN, and it is computationally costly to hunt for the correct size. Given this, other methodologies are used to prevent overfitting and improve ANNs' generalizability. These methodologies, like other techniques that combat overfitting, fall under the umbrella term of \"regularization\".\n",
    "\n",
    "In this problem, you are asked to regularize a network of a given architecture.\n",
    "\n",
    "<a id=\"part2.1about\"></a>\n",
    "\n",
    "<h3> The Kannada MNIST Dataset </h3>\n",
    "\n",
    "<img src=\"https://www.googleapis.com/download/storage/v1/b/kaggle-user-content/o/inbox%2F3630446%2F1e01bcc28b5ccb7ad38a4ffefb13cde0%2Fwondu.png?generation=1603204077179447&alt=media\" style=\"float:right\">\n",
    "\n",
    "For this problem, we will be working with a modified version of [Kannada MNIST dataset](https://arxiv.org/pdf/1908.01242.pdf) , which is a large database of handwritten digits in the indigenous language *Kannada*.\n",
    "\n",
    "This dataset consists of 60,000 28x28 grayscale images of the ten digits, along with a test set of 10,000 images. \n",
    "\n",
    "For this homework, we will simplify the problem by only use the digits labeled `0` and `1` owing to the similarity of the two symbols, and we want to use a total of 1200 samples for training (this includes the data you will use for validation).\n",
    "\n",
    "To understand the dataset better, we recommend this [article](https://towardsdatascience.com/a-new-handwritten-digits-dataset-in-ml-town-kannada-mnist-69df0f2d1456) by Vinay Prabhu, the curator of the dataset.\n",
    "\n",
    "<a id=\"part2data\"></a>\n",
    "\n",
    "<h3> Downloading the Data Files </h3>\n",
    "\n",
    "Please download all files from Kaggle. **The link will be given soon.**\n",
    "\n",
    "Here's a brief description of the available files:\n",
    "\n",
    "- `kmnist_train.csv` is our training dataset and the last column contains our response class. The 784 other columns correspond to the pixel values of the 28x28 dimension image.\n",
    "\n",
    "Class 0 means a sample is the handwritten digit `0` and class 1 means a sample is the handwritten digit `1` in the Kannada language.  \n",
    "\n",
    "- `kmnist_test.csv` has a structure similar to `kmnist_train.csv`, however the class label column is NOT included in with the test set. `kmnist_test.csv` has 2000 samples. \n",
    "\n",
    "Kaggle leaderboard scores are accuracy scores calculated by Kaggle when you upload your predictions on this test set.\n",
    "\n",
    "- `sample_submission.csv` is the format that kaggle will accept.\n",
    "\n",
    "<a id=\"part2.1kaggle\"></a>\n",
    "\n",
    "<h3> AI2-C2 Homework Kaggle Competition </h3>\n",
    "\n",
    "You need to create an account on Kaggle and join the competition. **The link is in the description.** \n",
    "\n",
    "**This is a limited participation competition. Please DO NOT share this link you will recieve.**\n",
    "\n",
    "For more information on the rules governing this Kaggle competition, **please [see question 2.1.3 below](#part2_3).**\n",
    "\n",
    "</div>"
   ]
  },
  {
   "cell_type": "markdown",
   "id": "7af926e0",
   "metadata": {
    "papermill": {
     "duration": 0.013379,
     "end_time": "2022-12-02T19:30:38.471710",
     "exception": false,
     "start_time": "2022-12-02T19:30:38.458331",
     "status": "completed"
    },
    "tags": []
   },
   "source": [
    "<div class=\"alert alert-block alert-danger\" style=\"color:black;background-color:#E7F4FA\">\n",
    "\n",
    "<h2>PART 2.1 Questions</h2>\n",
    "\n",
    "**2.1.1 [5 points]** **Get the data:**\n",
    "\n",
    "- Download data from the competition page.\n",
    "- We will utilize `kmnist_test.csv` in question 2.1.3.4 only. \n",
    "- Load the data and use the matplotlib function `imshow` to display a handwritten 0 and a handwritten 1.\n",
    "\n",
    "**2.1.2 [10 points]** **Overfit an ANN:** \n",
    "\n",
    "Build a fully-connected network (FCN) with the architecture given below using `tensorflow.keras` and assign it to a variable called `model_overfit`:\n",
    "\n",
    "- Number of hidden layers: 3\n",
    "- Nodes per hidden layer: 100, 100, 100\n",
    "- Activation function: ReLU \n",
    "- Loss function: binary_crossentropy\n",
    "- Output unit: Sigmoid \n",
    "- Optimizer: adam (use the defaults; no other tuning)\n",
    "- Epochs: no more than 2,000\n",
    "- Batch size: 128\n",
    "- Validation size: 0.3\n",
    "\n",
    "![](https://www.googleapis.com/download/storage/v1/b/kaggle-user-content/o/inbox%2F3630446%2F6a491ff8d4ff590dc8ded9a25461cd4b%2FScreenshot%202020-10-20%20at%209.42.36%20PM.png?generation=1603210420701577&alt=media) \n",
    "    \n",
    "This ANN, when trained on the dataset, will overfit to the training set. Plot the training accuracy and validation accuracy (the x-axis should represent the number of epochs, and the y-axis should represent the accuracy). Explain how you can tell the model is overfitting. \n",
    "\n",
    "<a id=\"part2_3\"></a>\n",
    "\n",
    "**2.1.3 [15 points]** **Regularize overfit network:**\n",
    "\n",
    "Create an ANN that doesn't overfit and compete on Kaggle.\n",
    "\n",
    "**DON'TS**\n",
    "\n",
    "**Don't change the architecture**. In other words, keep the number of layers, number of nodes, activation function,  loss function and output unit the same. **No CNNs/RNNs/enhancements allowed for the competition.**\n",
    "\n",
    "    \n",
    "**NOTE**: We strongly discourage you to use a different training set than the one provided to you (Data augmentation is allowed). If the test set accuracy of your model in this notebook is significantly different than your kaggle submission score, you will receive zero credit for this segment of the homework.\n",
    "\n",
    "    \n",
    "**DOS**\n",
    "\n",
    "You can change the number of epochs (max 2000), batch size, optimizer, and of course, add elements that can help to regularize (e.g., dropout, L2 norm, etc.). You **should** experiment with data augmentation. \n",
    "\n",
    "\n",
    "- **2.1.3.1** Display your model summary and your training and validation accuracy and loss.\n",
    "\n",
    "\n",
    "- **2.1.3.2** Print the difference between the training and validation accuracies and the difference between the training and validation losses for the final trained epoch used by your model.\n",
    "\n",
    "\n",
    "- **2.1.3.3** Plot the training accuracy and validation accuracy as a function of epochs.\n",
    "\n",
    "\n",
    "- **2.1.3.4** Generate your test set class predictions using your regularized model. Save those predictions to a `.csv` formatted file. Submit that `.csv` file to this Kaggle Competition for leaderboard scoring.\n",
    "\n",
    "\n",
    "- **2.1.3.5** **Specify your Kaggle name that you have used on the leaderboard**. *We can't give you credit without this.*\n",
    "\n",
    "\n",
    "    \n",
    "**IMPORTANT NOTES ABOUT SCORING**:\n",
    "\n",
    "- The **public leaderboard** on kaggle only displays your performance on 50% of the test set.\n",
    "\n",
    "\n",
    "- After the competition is complete, the **private leaderboard** will show your performance on the FULL test set.\n",
    "    \n",
    "Only the **top 5** competitors (as ranked on the hidden private leaderboard) will be eligible for full credit on question 2.1.3 (out of **15 points**). Remaining competitors will be scored out of **10 points** only for 2.1.3.\n",
    "\n",
    "\n",
    "**ADDITIONAL RULES:**\n",
    "\n",
    "- Multiple Kaggle submissions are permitted, **just note** that you will need to choose, on Kaggle, which submission shall be used for final scoring.\n",
    "\n",
    "\n",
    "- The version of your final notebook submitted on edStem **must contain the same model** used to generate to your chosen Kaggle submission.\n",
    "\n",
    "\n",
    "- **Please do not manually label your submissions.** In other words, the labels should only be the outcome of your model.\n",
    "\n",
    "\n",
    "- **No external data are allowed, please only use the KMNIST training data downloaded via the link above for training your model.**\n",
    "\n",
    "\n",
    "- **Do not** create multiple accounts on Kaggle.\n",
    "\n",
    "</div>"
   ]
  },
  {
   "cell_type": "markdown",
   "id": "55629b12",
   "metadata": {
    "papermill": {
     "duration": 0.013253,
     "end_time": "2022-12-02T19:30:38.498545",
     "exception": false,
     "start_time": "2022-12-02T19:30:38.485292",
     "status": "completed"
    },
    "tags": []
   },
   "source": [
    "<a id=\"part2.1solutions\"></a>\n",
    "\n",
    "## PART 2.1 Solutions\n",
    "\n",
    "[Return to contents](#contents)\n",
    "\n",
    "\n"
   ]
  },
  {
   "cell_type": "markdown",
   "id": "aed6ee0a",
   "metadata": {
    "papermill": {
     "duration": 0.013231,
     "end_time": "2022-12-02T19:30:38.525323",
     "exception": false,
     "start_time": "2022-12-02T19:30:38.512092",
     "status": "completed"
    },
    "tags": []
   },
   "source": [
    "<div class='exercise-r'>\n",
    "\n",
    "**2.1.1** \n",
    "    \n",
    "</div>"
   ]
  },
  {
   "cell_type": "code",
   "execution_count": 3,
   "id": "f115f3dd",
   "metadata": {
    "execution": {
     "iopub.execute_input": "2022-12-02T19:30:38.555236Z",
     "iopub.status.busy": "2022-12-02T19:30:38.553710Z",
     "iopub.status.idle": "2022-12-02T19:30:39.777675Z",
     "shell.execute_reply": "2022-12-02T19:30:39.776682Z"
    },
    "papermill": {
     "duration": 1.241564,
     "end_time": "2022-12-02T19:30:39.780358",
     "exception": false,
     "start_time": "2022-12-02T19:30:38.538794",
     "status": "completed"
    },
    "tags": []
   },
   "outputs": [],
   "source": [
    "#loading the datsets\n",
    "train_df = pd.read_csv(\"/kaggle/input/ai2-cohort-5-homework-contest/kmnist_train.csv/kmnist_train.csv\")\n",
    "test_df = pd.read_csv(\"/kaggle/input/ai2-cohort-5-homework-contest/kmnist_test.csv/kmnist_test.csv\")"
   ]
  },
  {
   "cell_type": "code",
   "execution_count": 4,
   "id": "a5d0785b",
   "metadata": {
    "execution": {
     "iopub.execute_input": "2022-12-02T19:30:39.809827Z",
     "iopub.status.busy": "2022-12-02T19:30:39.809453Z",
     "iopub.status.idle": "2022-12-02T19:30:39.850158Z",
     "shell.execute_reply": "2022-12-02T19:30:39.848346Z"
    },
    "papermill": {
     "duration": 0.05898,
     "end_time": "2022-12-02T19:30:39.853066",
     "exception": false,
     "start_time": "2022-12-02T19:30:39.794086",
     "status": "completed"
    },
    "tags": []
   },
   "outputs": [
    {
     "name": "stdout",
     "output_type": "stream",
     "text": [
      "(1200, 785)\n"
     ]
    },
    {
     "data": {
      "text/html": [
       "<div>\n",
       "<style scoped>\n",
       "    .dataframe tbody tr th:only-of-type {\n",
       "        vertical-align: middle;\n",
       "    }\n",
       "\n",
       "    .dataframe tbody tr th {\n",
       "        vertical-align: top;\n",
       "    }\n",
       "\n",
       "    .dataframe thead th {\n",
       "        text-align: right;\n",
       "    }\n",
       "</style>\n",
       "<table border=\"1\" class=\"dataframe\">\n",
       "  <thead>\n",
       "    <tr style=\"text-align: right;\">\n",
       "      <th></th>\n",
       "      <th>pixel 1</th>\n",
       "      <th>pixel 2</th>\n",
       "      <th>pixel 3</th>\n",
       "      <th>pixel 4</th>\n",
       "      <th>pixel 5</th>\n",
       "      <th>pixel 6</th>\n",
       "      <th>pixel 7</th>\n",
       "      <th>pixel 8</th>\n",
       "      <th>pixel 9</th>\n",
       "      <th>pixel 10</th>\n",
       "      <th>...</th>\n",
       "      <th>pixel 776</th>\n",
       "      <th>pixel 777</th>\n",
       "      <th>pixel 778</th>\n",
       "      <th>pixel 779</th>\n",
       "      <th>pixel 780</th>\n",
       "      <th>pixel 781</th>\n",
       "      <th>pixel 782</th>\n",
       "      <th>pixel 783</th>\n",
       "      <th>pixel 784</th>\n",
       "      <th>output</th>\n",
       "    </tr>\n",
       "  </thead>\n",
       "  <tbody>\n",
       "    <tr>\n",
       "      <th>0</th>\n",
       "      <td>56.514675</td>\n",
       "      <td>24.749116</td>\n",
       "      <td>15.420758</td>\n",
       "      <td>68.951633</td>\n",
       "      <td>13.760997</td>\n",
       "      <td>13.309949</td>\n",
       "      <td>68.951633</td>\n",
       "      <td>68.951633</td>\n",
       "      <td>13.309949</td>\n",
       "      <td>68.951633</td>\n",
       "      <td>...</td>\n",
       "      <td>31.413656</td>\n",
       "      <td>13.309949</td>\n",
       "      <td>23.733776</td>\n",
       "      <td>13.309949</td>\n",
       "      <td>13.309949</td>\n",
       "      <td>13.309949</td>\n",
       "      <td>68.951633</td>\n",
       "      <td>32.487911</td>\n",
       "      <td>13.309949</td>\n",
       "      <td>1</td>\n",
       "    </tr>\n",
       "    <tr>\n",
       "      <th>1</th>\n",
       "      <td>13.122449</td>\n",
       "      <td>13.122449</td>\n",
       "      <td>13.122449</td>\n",
       "      <td>13.122449</td>\n",
       "      <td>13.122449</td>\n",
       "      <td>13.122449</td>\n",
       "      <td>43.090392</td>\n",
       "      <td>15.339362</td>\n",
       "      <td>13.122449</td>\n",
       "      <td>13.122449</td>\n",
       "      <td>...</td>\n",
       "      <td>13.122449</td>\n",
       "      <td>13.122449</td>\n",
       "      <td>13.122449</td>\n",
       "      <td>24.566333</td>\n",
       "      <td>13.122449</td>\n",
       "      <td>13.122449</td>\n",
       "      <td>13.122449</td>\n",
       "      <td>13.409452</td>\n",
       "      <td>13.122449</td>\n",
       "      <td>1</td>\n",
       "    </tr>\n",
       "    <tr>\n",
       "      <th>2</th>\n",
       "      <td>56.228990</td>\n",
       "      <td>38.733386</td>\n",
       "      <td>43.356041</td>\n",
       "      <td>30.350765</td>\n",
       "      <td>30.350765</td>\n",
       "      <td>101.791573</td>\n",
       "      <td>30.350765</td>\n",
       "      <td>30.350765</td>\n",
       "      <td>101.791573</td>\n",
       "      <td>56.951487</td>\n",
       "      <td>...</td>\n",
       "      <td>30.350765</td>\n",
       "      <td>30.350765</td>\n",
       "      <td>30.350765</td>\n",
       "      <td>30.350765</td>\n",
       "      <td>30.350765</td>\n",
       "      <td>30.350765</td>\n",
       "      <td>50.652863</td>\n",
       "      <td>101.791573</td>\n",
       "      <td>30.350765</td>\n",
       "      <td>0</td>\n",
       "    </tr>\n",
       "    <tr>\n",
       "      <th>3</th>\n",
       "      <td>67.072705</td>\n",
       "      <td>33.257721</td>\n",
       "      <td>51.330661</td>\n",
       "      <td>17.868622</td>\n",
       "      <td>17.868622</td>\n",
       "      <td>17.868622</td>\n",
       "      <td>17.868622</td>\n",
       "      <td>17.868622</td>\n",
       "      <td>17.868622</td>\n",
       "      <td>17.868622</td>\n",
       "      <td>...</td>\n",
       "      <td>73.689417</td>\n",
       "      <td>17.868622</td>\n",
       "      <td>17.868622</td>\n",
       "      <td>17.868622</td>\n",
       "      <td>17.868622</td>\n",
       "      <td>17.868622</td>\n",
       "      <td>17.868622</td>\n",
       "      <td>17.868622</td>\n",
       "      <td>17.868622</td>\n",
       "      <td>0</td>\n",
       "    </tr>\n",
       "    <tr>\n",
       "      <th>4</th>\n",
       "      <td>17.867347</td>\n",
       "      <td>17.867347</td>\n",
       "      <td>17.867347</td>\n",
       "      <td>28.235052</td>\n",
       "      <td>17.867347</td>\n",
       "      <td>17.867347</td>\n",
       "      <td>17.867347</td>\n",
       "      <td>53.074296</td>\n",
       "      <td>43.465014</td>\n",
       "      <td>17.867347</td>\n",
       "      <td>...</td>\n",
       "      <td>17.867347</td>\n",
       "      <td>28.893451</td>\n",
       "      <td>17.867347</td>\n",
       "      <td>17.867347</td>\n",
       "      <td>17.867347</td>\n",
       "      <td>17.867347</td>\n",
       "      <td>62.989647</td>\n",
       "      <td>17.867347</td>\n",
       "      <td>17.867347</td>\n",
       "      <td>0</td>\n",
       "    </tr>\n",
       "  </tbody>\n",
       "</table>\n",
       "<p>5 rows × 785 columns</p>\n",
       "</div>"
      ],
      "text/plain": [
       "     pixel 1    pixel 2    pixel 3    pixel 4    pixel 5     pixel 6  \\\n",
       "0  56.514675  24.749116  15.420758  68.951633  13.760997   13.309949   \n",
       "1  13.122449  13.122449  13.122449  13.122449  13.122449   13.122449   \n",
       "2  56.228990  38.733386  43.356041  30.350765  30.350765  101.791573   \n",
       "3  67.072705  33.257721  51.330661  17.868622  17.868622   17.868622   \n",
       "4  17.867347  17.867347  17.867347  28.235052  17.867347   17.867347   \n",
       "\n",
       "     pixel 7    pixel 8     pixel 9   pixel 10  ...  pixel 776  pixel 777  \\\n",
       "0  68.951633  68.951633   13.309949  68.951633  ...  31.413656  13.309949   \n",
       "1  43.090392  15.339362   13.122449  13.122449  ...  13.122449  13.122449   \n",
       "2  30.350765  30.350765  101.791573  56.951487  ...  30.350765  30.350765   \n",
       "3  17.868622  17.868622   17.868622  17.868622  ...  73.689417  17.868622   \n",
       "4  17.867347  53.074296   43.465014  17.867347  ...  17.867347  28.893451   \n",
       "\n",
       "   pixel 778  pixel 779  pixel 780  pixel 781  pixel 782   pixel 783  \\\n",
       "0  23.733776  13.309949  13.309949  13.309949  68.951633   32.487911   \n",
       "1  13.122449  24.566333  13.122449  13.122449  13.122449   13.409452   \n",
       "2  30.350765  30.350765  30.350765  30.350765  50.652863  101.791573   \n",
       "3  17.868622  17.868622  17.868622  17.868622  17.868622   17.868622   \n",
       "4  17.867347  17.867347  17.867347  17.867347  62.989647   17.867347   \n",
       "\n",
       "   pixel 784  output  \n",
       "0  13.309949       1  \n",
       "1  13.122449       1  \n",
       "2  30.350765       0  \n",
       "3  17.868622       0  \n",
       "4  17.867347       0  \n",
       "\n",
       "[5 rows x 785 columns]"
      ]
     },
     "execution_count": 4,
     "metadata": {},
     "output_type": "execute_result"
    }
   ],
   "source": [
    "#train dataset\n",
    "print(train_df.shape)\n",
    "train_df.head()"
   ]
  },
  {
   "cell_type": "markdown",
   "id": "0ec7b7a0",
   "metadata": {
    "papermill": {
     "duration": 0.013901,
     "end_time": "2022-12-02T19:30:39.882130",
     "exception": false,
     "start_time": "2022-12-02T19:30:39.868229",
     "status": "completed"
    },
    "tags": []
   },
   "source": [
    "- train dataset contains (28,28) pixel values and a output/label column\n",
    "- 1200 observations"
   ]
  },
  {
   "cell_type": "code",
   "execution_count": 5,
   "id": "0df84a8d",
   "metadata": {
    "execution": {
     "iopub.execute_input": "2022-12-02T19:30:39.912345Z",
     "iopub.status.busy": "2022-12-02T19:30:39.911896Z",
     "iopub.status.idle": "2022-12-02T19:30:39.943851Z",
     "shell.execute_reply": "2022-12-02T19:30:39.941889Z"
    },
    "papermill": {
     "duration": 0.051773,
     "end_time": "2022-12-02T19:30:39.948262",
     "exception": false,
     "start_time": "2022-12-02T19:30:39.896489",
     "status": "completed"
    },
    "tags": []
   },
   "outputs": [
    {
     "name": "stdout",
     "output_type": "stream",
     "text": [
      "(2000, 784)\n"
     ]
    },
    {
     "data": {
      "text/html": [
       "<div>\n",
       "<style scoped>\n",
       "    .dataframe tbody tr th:only-of-type {\n",
       "        vertical-align: middle;\n",
       "    }\n",
       "\n",
       "    .dataframe tbody tr th {\n",
       "        vertical-align: top;\n",
       "    }\n",
       "\n",
       "    .dataframe thead th {\n",
       "        text-align: right;\n",
       "    }\n",
       "</style>\n",
       "<table border=\"1\" class=\"dataframe\">\n",
       "  <thead>\n",
       "    <tr style=\"text-align: right;\">\n",
       "      <th></th>\n",
       "      <th>pixel 1</th>\n",
       "      <th>pixel 2</th>\n",
       "      <th>pixel 3</th>\n",
       "      <th>pixel 4</th>\n",
       "      <th>pixel 5</th>\n",
       "      <th>pixel 6</th>\n",
       "      <th>pixel 7</th>\n",
       "      <th>pixel 8</th>\n",
       "      <th>pixel 9</th>\n",
       "      <th>pixel 10</th>\n",
       "      <th>...</th>\n",
       "      <th>pixel 775</th>\n",
       "      <th>pixel 776</th>\n",
       "      <th>pixel 777</th>\n",
       "      <th>pixel 778</th>\n",
       "      <th>pixel 779</th>\n",
       "      <th>pixel 780</th>\n",
       "      <th>pixel 781</th>\n",
       "      <th>pixel 782</th>\n",
       "      <th>pixel 783</th>\n",
       "      <th>pixel 784</th>\n",
       "    </tr>\n",
       "  </thead>\n",
       "  <tbody>\n",
       "    <tr>\n",
       "      <th>0</th>\n",
       "      <td>38.167092</td>\n",
       "      <td>38.167092</td>\n",
       "      <td>54.242517</td>\n",
       "      <td>82.402707</td>\n",
       "      <td>57.519895</td>\n",
       "      <td>38.167092</td>\n",
       "      <td>38.167092</td>\n",
       "      <td>38.167092</td>\n",
       "      <td>38.167092</td>\n",
       "      <td>83.975893</td>\n",
       "      <td>...</td>\n",
       "      <td>38.167092</td>\n",
       "      <td>38.167092</td>\n",
       "      <td>38.167092</td>\n",
       "      <td>38.167092</td>\n",
       "      <td>68.490056</td>\n",
       "      <td>60.846754</td>\n",
       "      <td>38.167092</td>\n",
       "      <td>38.167092</td>\n",
       "      <td>38.167092</td>\n",
       "      <td>38.167092</td>\n",
       "    </tr>\n",
       "    <tr>\n",
       "      <th>1</th>\n",
       "      <td>35.295784</td>\n",
       "      <td>21.289541</td>\n",
       "      <td>21.289541</td>\n",
       "      <td>35.614861</td>\n",
       "      <td>21.289541</td>\n",
       "      <td>21.289541</td>\n",
       "      <td>82.447909</td>\n",
       "      <td>21.289541</td>\n",
       "      <td>21.289541</td>\n",
       "      <td>21.289541</td>\n",
       "      <td>...</td>\n",
       "      <td>21.289541</td>\n",
       "      <td>21.289541</td>\n",
       "      <td>25.689617</td>\n",
       "      <td>21.289541</td>\n",
       "      <td>21.289541</td>\n",
       "      <td>21.289541</td>\n",
       "      <td>21.289541</td>\n",
       "      <td>21.289541</td>\n",
       "      <td>35.579927</td>\n",
       "      <td>21.289541</td>\n",
       "    </tr>\n",
       "    <tr>\n",
       "      <th>2</th>\n",
       "      <td>21.521684</td>\n",
       "      <td>21.521684</td>\n",
       "      <td>21.521684</td>\n",
       "      <td>21.521684</td>\n",
       "      <td>57.199072</td>\n",
       "      <td>21.521684</td>\n",
       "      <td>21.521684</td>\n",
       "      <td>83.038062</td>\n",
       "      <td>46.479759</td>\n",
       "      <td>64.182483</td>\n",
       "      <td>...</td>\n",
       "      <td>21.521684</td>\n",
       "      <td>21.521684</td>\n",
       "      <td>21.521684</td>\n",
       "      <td>58.240365</td>\n",
       "      <td>83.038062</td>\n",
       "      <td>43.627021</td>\n",
       "      <td>21.521684</td>\n",
       "      <td>21.521684</td>\n",
       "      <td>21.521684</td>\n",
       "      <td>21.521684</td>\n",
       "    </tr>\n",
       "    <tr>\n",
       "      <th>3</th>\n",
       "      <td>73.500705</td>\n",
       "      <td>17.146684</td>\n",
       "      <td>45.996388</td>\n",
       "      <td>17.146684</td>\n",
       "      <td>17.146684</td>\n",
       "      <td>17.146684</td>\n",
       "      <td>17.146684</td>\n",
       "      <td>17.146684</td>\n",
       "      <td>73.500705</td>\n",
       "      <td>25.910554</td>\n",
       "      <td>...</td>\n",
       "      <td>17.146684</td>\n",
       "      <td>17.146684</td>\n",
       "      <td>57.801082</td>\n",
       "      <td>17.146684</td>\n",
       "      <td>73.500705</td>\n",
       "      <td>17.146684</td>\n",
       "      <td>17.146684</td>\n",
       "      <td>17.146684</td>\n",
       "      <td>17.146684</td>\n",
       "      <td>17.146684</td>\n",
       "    </tr>\n",
       "    <tr>\n",
       "      <th>4</th>\n",
       "      <td>24.724490</td>\n",
       "      <td>24.724490</td>\n",
       "      <td>90.599163</td>\n",
       "      <td>24.724490</td>\n",
       "      <td>24.724490</td>\n",
       "      <td>24.724490</td>\n",
       "      <td>24.724490</td>\n",
       "      <td>53.192570</td>\n",
       "      <td>45.764022</td>\n",
       "      <td>57.982717</td>\n",
       "      <td>...</td>\n",
       "      <td>24.724490</td>\n",
       "      <td>24.724490</td>\n",
       "      <td>24.724490</td>\n",
       "      <td>87.932260</td>\n",
       "      <td>24.724490</td>\n",
       "      <td>24.724490</td>\n",
       "      <td>39.901236</td>\n",
       "      <td>90.599163</td>\n",
       "      <td>24.724490</td>\n",
       "      <td>24.724490</td>\n",
       "    </tr>\n",
       "  </tbody>\n",
       "</table>\n",
       "<p>5 rows × 784 columns</p>\n",
       "</div>"
      ],
      "text/plain": [
       "     pixel 1    pixel 2    pixel 3    pixel 4    pixel 5    pixel 6  \\\n",
       "0  38.167092  38.167092  54.242517  82.402707  57.519895  38.167092   \n",
       "1  35.295784  21.289541  21.289541  35.614861  21.289541  21.289541   \n",
       "2  21.521684  21.521684  21.521684  21.521684  57.199072  21.521684   \n",
       "3  73.500705  17.146684  45.996388  17.146684  17.146684  17.146684   \n",
       "4  24.724490  24.724490  90.599163  24.724490  24.724490  24.724490   \n",
       "\n",
       "     pixel 7    pixel 8    pixel 9   pixel 10  ...  pixel 775  pixel 776  \\\n",
       "0  38.167092  38.167092  38.167092  83.975893  ...  38.167092  38.167092   \n",
       "1  82.447909  21.289541  21.289541  21.289541  ...  21.289541  21.289541   \n",
       "2  21.521684  83.038062  46.479759  64.182483  ...  21.521684  21.521684   \n",
       "3  17.146684  17.146684  73.500705  25.910554  ...  17.146684  17.146684   \n",
       "4  24.724490  53.192570  45.764022  57.982717  ...  24.724490  24.724490   \n",
       "\n",
       "   pixel 777  pixel 778  pixel 779  pixel 780  pixel 781  pixel 782  \\\n",
       "0  38.167092  38.167092  68.490056  60.846754  38.167092  38.167092   \n",
       "1  25.689617  21.289541  21.289541  21.289541  21.289541  21.289541   \n",
       "2  21.521684  58.240365  83.038062  43.627021  21.521684  21.521684   \n",
       "3  57.801082  17.146684  73.500705  17.146684  17.146684  17.146684   \n",
       "4  24.724490  87.932260  24.724490  24.724490  39.901236  90.599163   \n",
       "\n",
       "   pixel 783  pixel 784  \n",
       "0  38.167092  38.167092  \n",
       "1  35.579927  21.289541  \n",
       "2  21.521684  21.521684  \n",
       "3  17.146684  17.146684  \n",
       "4  24.724490  24.724490  \n",
       "\n",
       "[5 rows x 784 columns]"
      ]
     },
     "execution_count": 5,
     "metadata": {},
     "output_type": "execute_result"
    }
   ],
   "source": [
    "#test dataset\n",
    "print(test_df.shape)\n",
    "test_df.head()"
   ]
  },
  {
   "cell_type": "markdown",
   "id": "69a9a7ff",
   "metadata": {
    "papermill": {
     "duration": 0.014867,
     "end_time": "2022-12-02T19:30:39.980172",
     "exception": false,
     "start_time": "2022-12-02T19:30:39.965305",
     "status": "completed"
    },
    "tags": []
   },
   "source": [
    "- test dataset only contains (28,28) pixel values.\n",
    "- no target column\n",
    "- 2000 observations"
   ]
  },
  {
   "cell_type": "code",
   "execution_count": 6,
   "id": "2a6da9f1",
   "metadata": {
    "execution": {
     "iopub.execute_input": "2022-12-02T19:30:40.011600Z",
     "iopub.status.busy": "2022-12-02T19:30:40.010240Z",
     "iopub.status.idle": "2022-12-02T19:30:40.276837Z",
     "shell.execute_reply": "2022-12-02T19:30:40.275967Z"
    },
    "papermill": {
     "duration": 0.285723,
     "end_time": "2022-12-02T19:30:40.280350",
     "exception": false,
     "start_time": "2022-12-02T19:30:39.994627",
     "status": "completed"
    },
    "tags": []
   },
   "outputs": [
    {
     "name": "stdout",
     "output_type": "stream",
     "text": [
      "<class 'pandas.core.frame.DataFrame'>\n",
      "RangeIndex: 1200 entries, 0 to 1199\n",
      "Columns: 785 entries, pixel 1 to output\n",
      "dtypes: float64(784), int64(1)\n",
      "memory usage: 7.2 MB\n"
     ]
    },
    {
     "data": {
      "image/png": "[encoded data removed]",
      "text/plain": [
       "<Figure size 432x288 with 1 Axes>"
      ]
     },
     "metadata": {
      "needs_background": "light"
     },
     "output_type": "display_data"
    },
    {
     "name": "stdout",
     "output_type": "stream",
     "text": [
      "0    619\n",
      "1    581\n",
      "Name: output, dtype: int64\n"
     ]
    }
   ],
   "source": [
    "#visualization for labels distribution\n",
    "train_df.info()\n",
    "sns.countplot(train_df['output'])\n",
    "plt.title('Counts of digit 0 & 1')\n",
    "plt.show()\n",
    "print(train_df['output'].value_counts())"
   ]
  },
  {
   "cell_type": "code",
   "execution_count": 7,
   "id": "b864aaea",
   "metadata": {
    "execution": {
     "iopub.execute_input": "2022-12-02T19:30:40.312271Z",
     "iopub.status.busy": "2022-12-02T19:30:40.311330Z",
     "iopub.status.idle": "2022-12-02T19:30:40.323607Z",
     "shell.execute_reply": "2022-12-02T19:30:40.322173Z"
    },
    "papermill": {
     "duration": 0.03111,
     "end_time": "2022-12-02T19:30:40.326335",
     "exception": false,
     "start_time": "2022-12-02T19:30:40.295225",
     "status": "completed"
    },
    "tags": []
   },
   "outputs": [
    {
     "name": "stdout",
     "output_type": "stream",
     "text": [
      "predictor shape (1200, 784)\n",
      "response shape (1200,)\n"
     ]
    }
   ],
   "source": [
    "#data preprocessing\n",
    "X = train_df.drop(['output'],axis=1)\n",
    "y = train_df.output\n",
    "print('predictor shape',X.shape)\n",
    "print('response shape',y.shape)"
   ]
  },
  {
   "cell_type": "code",
   "execution_count": 8,
   "id": "b062cea6",
   "metadata": {
    "execution": {
     "iopub.execute_input": "2022-12-02T19:30:40.358647Z",
     "iopub.status.busy": "2022-12-02T19:30:40.358206Z",
     "iopub.status.idle": "2022-12-02T19:30:40.553677Z",
     "shell.execute_reply": "2022-12-02T19:30:40.552173Z"
    },
    "papermill": {
     "duration": 0.215243,
     "end_time": "2022-12-02T19:30:40.556794",
     "exception": false,
     "start_time": "2022-12-02T19:30:40.341551",
     "status": "completed"
    },
    "tags": []
   },
   "outputs": [
    {
     "data": {
      "image/png": "[encoded data removed]",
      "text/plain": [
       "<Figure size 432x288 with 1 Axes>"
      ]
     },
     "metadata": {
      "needs_background": "light"
     },
     "output_type": "display_data"
    },
    {
     "name": "stdout",
     "output_type": "stream",
     "text": [
      "label 1\n"
     ]
    }
   ],
   "source": [
    "#showing sample image with label 1\n",
    "X0 = X.iloc[:1,:]\n",
    "img0 = np.reshape(np.asarray(X0),(28,28))\n",
    "# cv2.imwrite('image0.png',img0)\n",
    "plt.imshow(img0)\n",
    "plt.show()\n",
    "print('label',y[0])"
   ]
  },
  {
   "cell_type": "code",
   "execution_count": 9,
   "id": "80efdc73",
   "metadata": {
    "execution": {
     "iopub.execute_input": "2022-12-02T19:30:40.590055Z",
     "iopub.status.busy": "2022-12-02T19:30:40.589621Z",
     "iopub.status.idle": "2022-12-02T19:30:40.777972Z",
     "shell.execute_reply": "2022-12-02T19:30:40.776652Z"
    },
    "papermill": {
     "duration": 0.208275,
     "end_time": "2022-12-02T19:30:40.780295",
     "exception": false,
     "start_time": "2022-12-02T19:30:40.572020",
     "status": "completed"
    },
    "tags": []
   },
   "outputs": [
    {
     "data": {
      "image/png": "[encoded data removed]",
      "text/plain": [
       "<Figure size 432x288 with 1 Axes>"
      ]
     },
     "metadata": {
      "needs_background": "light"
     },
     "output_type": "display_data"
    },
    {
     "name": "stdout",
     "output_type": "stream",
     "text": [
      "label 0\n"
     ]
    }
   ],
   "source": [
    "#showing sample image with label 0\n",
    "X1 = X.iloc[2:3,:]\n",
    "img1 = np.reshape(np.asarray(X1),(28,28))\n",
    "# cv2.imwrite('image1.png',img1)\n",
    "plt.imshow(img1)\n",
    "plt.show()\n",
    "print('label',y[2])"
   ]
  },
  {
   "cell_type": "markdown",
   "id": "5f897869",
   "metadata": {
    "papermill": {
     "duration": 0.01515,
     "end_time": "2022-12-02T19:30:40.811092",
     "exception": false,
     "start_time": "2022-12-02T19:30:40.795942",
     "status": "completed"
    },
    "tags": []
   },
   "source": [
    "<div class='exercise-r'>\n",
    "\n",
    "**2.1.2**\n",
    "    \n",
    "</div>"
   ]
  },
  {
   "cell_type": "code",
   "execution_count": 10,
   "id": "4fdc2166",
   "metadata": {
    "execution": {
     "iopub.execute_input": "2022-12-02T19:30:40.844796Z",
     "iopub.status.busy": "2022-12-02T19:30:40.843607Z",
     "iopub.status.idle": "2022-12-02T19:30:40.861520Z",
     "shell.execute_reply": "2022-12-02T19:30:40.859933Z"
    },
    "papermill": {
     "duration": 0.037422,
     "end_time": "2022-12-02T19:30:40.863989",
     "exception": false,
     "start_time": "2022-12-02T19:30:40.826567",
     "status": "completed"
    },
    "tags": []
   },
   "outputs": [
    {
     "name": "stdout",
     "output_type": "stream",
     "text": [
      "---------Train set--------\n",
      "Input shape : (840, 784)\n",
      "Output shape : (840,)\n",
      "-----Validation set-------\n",
      "Input shape : (360, 784)\n",
      "Output shape : (360,)\n"
     ]
    }
   ],
   "source": [
    "# train validation split\n",
    "X_train, X_val, y_train, y_val = train_test_split(X,y, train_size=0.7,stratify=train_df.output,random_state=81)\n",
    "print('---------Train set--------')\n",
    "print('Input shape :', X_train.shape)\n",
    "print('Output shape :', y_train.shape)\n",
    "print('-----Validation set-------')\n",
    "print('Input shape :', X_val.shape)\n",
    "print('Output shape :', y_val.shape)"
   ]
  },
  {
   "cell_type": "code",
   "execution_count": 11,
   "id": "732e1795",
   "metadata": {
    "execution": {
     "iopub.execute_input": "2022-12-02T19:30:40.897545Z",
     "iopub.status.busy": "2022-12-02T19:30:40.896819Z",
     "iopub.status.idle": "2022-12-02T19:30:40.900713Z",
     "shell.execute_reply": "2022-12-02T19:30:40.899950Z"
    },
    "papermill": {
     "duration": 0.023436,
     "end_time": "2022-12-02T19:30:40.902956",
     "exception": false,
     "start_time": "2022-12-02T19:30:40.879520",
     "status": "completed"
    },
    "tags": []
   },
   "outputs": [],
   "source": [
    "#normalizing the predictors\n",
    "# X_train, X_val = X_train/255.0 , X_val/255.0"
   ]
  },
  {
   "cell_type": "markdown",
   "id": "e8f21fc0",
   "metadata": {
    "papermill": {
     "duration": 0.01519,
     "end_time": "2022-12-02T19:30:40.933947",
     "exception": false,
     "start_time": "2022-12-02T19:30:40.918757",
     "status": "completed"
    },
    "tags": []
   },
   "source": [
    "<div class='exercise-r'>\n",
    "\n",
    "**2.1.2**\n",
    "    \n",
    "</div>"
   ]
  },
  {
   "cell_type": "code",
   "execution_count": 12,
   "id": "e5033ca9",
   "metadata": {
    "execution": {
     "iopub.execute_input": "2022-12-02T19:30:40.968044Z",
     "iopub.status.busy": "2022-12-02T19:30:40.966789Z",
     "iopub.status.idle": "2022-12-02T19:30:41.150218Z",
     "shell.execute_reply": "2022-12-02T19:30:41.148243Z"
    },
    "papermill": {
     "duration": 0.204219,
     "end_time": "2022-12-02T19:30:41.153829",
     "exception": false,
     "start_time": "2022-12-02T19:30:40.949610",
     "status": "completed"
    },
    "tags": []
   },
   "outputs": [
    {
     "name": "stdout",
     "output_type": "stream",
     "text": [
      "Model: \"model_overfit\"\n",
      "_________________________________________________________________\n",
      "Layer (type)                 Output Shape              Param #   \n",
      "=================================================================\n",
      "dense (Dense)                (None, 840, 100)          78500     \n",
      "_________________________________________________________________\n",
      "dense_1 (Dense)              (None, 840, 100)          10100     \n",
      "_________________________________________________________________\n",
      "dense_2 (Dense)              (None, 840, 100)          10100     \n",
      "_________________________________________________________________\n",
      "dense_3 (Dense)              (None, 840, 1)            101       \n",
      "=================================================================\n",
      "Total params: 98,801\n",
      "Trainable params: 98,801\n",
      "Non-trainable params: 0\n",
      "_________________________________________________________________\n"
     ]
    },
    {
     "name": "stderr",
     "output_type": "stream",
     "text": [
      "2022-12-02 19:30:41.005049: I tensorflow/core/common_runtime/process_util.cc:146] Creating new thread pool with default inter op setting: 2. Tune using inter_op_parallelism_threads for best performance.\n"
     ]
    }
   ],
   "source": [
    "# overfit model building\n",
    "model_overfit = Sequential(name='model_overfit')\n",
    "model_overfit.add(Dense(100,activation='relu',input_shape=(840, 784)))\n",
    "model_overfit.add(Dense(100,activation='relu'))\n",
    "model_overfit.add(Dense(100,activation='relu'))\n",
    "model_overfit.add(Dense(1,activation='sigmoid'))\n",
    "model_overfit.summary()"
   ]
  },
  {
   "cell_type": "code",
   "execution_count": 13,
   "id": "f784d87d",
   "metadata": {
    "execution": {
     "iopub.execute_input": "2022-12-02T19:30:41.187892Z",
     "iopub.status.busy": "2022-12-02T19:30:41.186992Z",
     "iopub.status.idle": "2022-12-02T19:30:41.200988Z",
     "shell.execute_reply": "2022-12-02T19:30:41.200071Z"
    },
    "papermill": {
     "duration": 0.03355,
     "end_time": "2022-12-02T19:30:41.203449",
     "exception": false,
     "start_time": "2022-12-02T19:30:41.169899",
     "status": "completed"
    },
    "tags": []
   },
   "outputs": [],
   "source": [
    "#model compilation\n",
    "model_overfit.compile(optimizer='Adam',\n",
    "              loss='binary_crossentropy',\n",
    "              metrics=['accuracy'])"
   ]
  },
  {
   "cell_type": "code",
   "execution_count": 14,
   "id": "6ce46a3c",
   "metadata": {
    "execution": {
     "iopub.execute_input": "2022-12-02T19:30:41.238389Z",
     "iopub.status.busy": "2022-12-02T19:30:41.237519Z",
     "iopub.status.idle": "2022-12-02T19:30:52.298013Z",
     "shell.execute_reply": "2022-12-02T19:30:52.296742Z"
    },
    "papermill": {
     "duration": 11.081278,
     "end_time": "2022-12-02T19:30:52.300962",
     "exception": false,
     "start_time": "2022-12-02T19:30:41.219684",
     "status": "completed"
    },
    "tags": []
   },
   "outputs": [
    {
     "name": "stderr",
     "output_type": "stream",
     "text": [
      "2022-12-02 19:30:41.342741: I tensorflow/compiler/mlir/mlir_graph_optimization_pass.cc:185] None of the MLIR Optimization Passes are enabled (registered 2)\n"
     ]
    }
   ],
   "source": [
    "# model training\n",
    "# we use validation data instead of validation split \n",
    "# as the dataset already has been splet with 70/30 ratio\n",
    "model_overfit_history=model_overfit.fit(X_train,y_train,validation_data=(X_val,y_val),epochs=100, batch_size=128,verbose=0)"
   ]
  },
  {
   "cell_type": "code",
   "execution_count": 15,
   "id": "d4d5a523",
   "metadata": {
    "execution": {
     "iopub.execute_input": "2022-12-02T19:30:52.335944Z",
     "iopub.status.busy": "2022-12-02T19:30:52.334782Z",
     "iopub.status.idle": "2022-12-02T19:30:52.341220Z",
     "shell.execute_reply": "2022-12-02T19:30:52.340442Z"
    },
    "papermill": {
     "duration": 0.025564,
     "end_time": "2022-12-02T19:30:52.343269",
     "exception": false,
     "start_time": "2022-12-02T19:30:52.317705",
     "status": "completed"
    },
    "tags": []
   },
   "outputs": [
    {
     "data": {
      "text/plain": [
       "dict_keys(['loss', 'accuracy', 'val_loss', 'val_accuracy'])"
      ]
     },
     "execution_count": 15,
     "metadata": {},
     "output_type": "execute_result"
    }
   ],
   "source": [
    "model_overfit_history.history.keys()"
   ]
  },
  {
   "cell_type": "code",
   "execution_count": 16,
   "id": "f5495672",
   "metadata": {
    "execution": {
     "iopub.execute_input": "2022-12-02T19:30:52.377621Z",
     "iopub.status.busy": "2022-12-02T19:30:52.376888Z",
     "iopub.status.idle": "2022-12-02T19:30:52.718211Z",
     "shell.execute_reply": "2022-12-02T19:30:52.716824Z"
    },
    "papermill": {
     "duration": 0.361058,
     "end_time": "2022-12-02T19:30:52.720589",
     "exception": false,
     "start_time": "2022-12-02T19:30:52.359531",
     "status": "completed"
    },
    "tags": []
   },
   "outputs": [
    {
     "data": {
      "image/png": "[encoded data removed]",
      "text/plain": [
       "<Figure size 576x576 with 2 Axes>"
      ]
     },
     "metadata": {
      "needs_background": "light"
     },
     "output_type": "display_data"
    }
   ],
   "source": [
    "#plotting training and validation loss and accuracy\n",
    "acc = model_overfit_history.history['accuracy']\n",
    "val_acc = model_overfit_history.history['val_accuracy']\n",
    "\n",
    "loss = model_overfit_history.history['loss']\n",
    "val_loss = model_overfit_history.history['val_loss']\n",
    "\n",
    "epochs_range = range(len(acc))\n",
    "\n",
    "plt.figure(figsize=(8, 8))\n",
    "plt.subplot(1 , 2, 1)\n",
    "plt.plot(epochs_range, acc, label='Training Accuracy')\n",
    "plt.plot(epochs_range, val_acc, label='Validation Accuracy')\n",
    "plt.legend(loc='lower right')\n",
    "plt.title('Training and Validation Accuracy')\n",
    "\n",
    "plt.subplot(1, 2, 2)\n",
    "plt.plot(epochs_range, loss, label='Training Loss')\n",
    "plt.plot(epochs_range, val_loss, label='Validation Loss')\n",
    "plt.legend(loc='upper right')\n",
    "plt.title('Training and Validation Loss')\n",
    "plt.show()"
   ]
  },
  {
   "cell_type": "code",
   "execution_count": 17,
   "id": "91d2ec84",
   "metadata": {
    "execution": {
     "iopub.execute_input": "2022-12-02T19:30:52.756260Z",
     "iopub.status.busy": "2022-12-02T19:30:52.755540Z",
     "iopub.status.idle": "2022-12-02T19:30:52.769299Z",
     "shell.execute_reply": "2022-12-02T19:30:52.768000Z"
    },
    "papermill": {
     "duration": 0.034727,
     "end_time": "2022-12-02T19:30:52.771939",
     "exception": false,
     "start_time": "2022-12-02T19:30:52.737212",
     "status": "completed"
    },
    "tags": []
   },
   "outputs": [
    {
     "data": {
      "text/html": [
       "<div>\n",
       "<style scoped>\n",
       "    .dataframe tbody tr th:only-of-type {\n",
       "        vertical-align: middle;\n",
       "    }\n",
       "\n",
       "    .dataframe tbody tr th {\n",
       "        vertical-align: top;\n",
       "    }\n",
       "\n",
       "    .dataframe thead th {\n",
       "        text-align: right;\n",
       "    }\n",
       "</style>\n",
       "<table border=\"1\" class=\"dataframe\">\n",
       "  <thead>\n",
       "    <tr style=\"text-align: right;\">\n",
       "      <th></th>\n",
       "      <th>Type</th>\n",
       "      <th>Training Accuracy</th>\n",
       "      <th>Validation Accuracy</th>\n",
       "      <th>Epochs</th>\n",
       "    </tr>\n",
       "  </thead>\n",
       "  <tbody>\n",
       "    <tr>\n",
       "      <th>0</th>\n",
       "      <td>model_overfit</td>\n",
       "      <td>1.0</td>\n",
       "      <td>0.877778</td>\n",
       "      <td>100</td>\n",
       "    </tr>\n",
       "  </tbody>\n",
       "</table>\n",
       "</div>"
      ],
      "text/plain": [
       "            Type  Training Accuracy  Validation Accuracy  Epochs\n",
       "0  model_overfit                1.0             0.877778     100"
      ]
     },
     "metadata": {},
     "output_type": "display_data"
    }
   ],
   "source": [
    "#Displaying of training and validation accuracy\n",
    "accuracy_history_df = pd.DataFrame(data=[{\"Type\":\"model_overfit\",\"Training Accuracy\":acc[-1],\"Validation Accuracy\":val_acc[-1],\"Epochs\":len(acc)}])\n",
    "display(accuracy_history_df)"
   ]
  },
  {
   "cell_type": "markdown",
   "id": "b67df878",
   "metadata": {
    "papermill": {
     "duration": 0.01615,
     "end_time": "2022-12-02T19:30:52.804950",
     "exception": false,
     "start_time": "2022-12-02T19:30:52.788800",
     "status": "completed"
    },
    "tags": []
   },
   "source": [
    "**INTERPRETATION:**"
   ]
  },
  {
   "cell_type": "markdown",
   "id": "b519cc91",
   "metadata": {
    "papermill": {
     "duration": 0.015945,
     "end_time": "2022-12-02T19:30:52.837251",
     "exception": false,
     "start_time": "2022-12-02T19:30:52.821306",
     "status": "completed"
    },
    "tags": []
   },
   "source": [
    "- as we can see from the accuracy observation surely this model overfits\n",
    "- the training accuraci is 100% but the validation accuracy is ~87% which tells about the model memorizing the train data."
   ]
  },
  {
   "cell_type": "markdown",
   "id": "5831cbf4",
   "metadata": {
    "papermill": {
     "duration": 0.016242,
     "end_time": "2022-12-02T19:30:52.869802",
     "exception": false,
     "start_time": "2022-12-02T19:30:52.853560",
     "status": "completed"
    },
    "tags": []
   },
   "source": [
    "<div class='exercise-r'>\n",
    "\n",
    "**2.1.3** \n",
    "\n",
    "**2.1.3.1**\n",
    "    \n",
    "</div>"
   ]
  },
  {
   "cell_type": "code",
   "execution_count": 18,
   "id": "8714c58a",
   "metadata": {
    "execution": {
     "iopub.execute_input": "2022-12-02T19:30:52.904424Z",
     "iopub.status.busy": "2022-12-02T19:30:52.904037Z",
     "iopub.status.idle": "2022-12-02T19:30:52.922279Z",
     "shell.execute_reply": "2022-12-02T19:30:52.921154Z"
    },
    "papermill": {
     "duration": 0.039617,
     "end_time": "2022-12-02T19:30:52.925859",
     "exception": false,
     "start_time": "2022-12-02T19:30:52.886242",
     "status": "completed"
    },
    "tags": []
   },
   "outputs": [
    {
     "name": "stdout",
     "output_type": "stream",
     "text": [
      "---------Train set--------\n",
      "Input shape : (840, 784)\n",
      "Output shape : (840,)\n",
      "-----Validation set-------\n",
      "Input shape : (360, 784)\n",
      "Output shape : (360,)\n"
     ]
    }
   ],
   "source": [
    "# train validation split\n",
    "X_train, X_val, y_train, y_val = train_test_split(X,y, train_size=0.7,stratify=train_df.output,random_state=81)\n",
    "print('---------Train set--------')\n",
    "print('Input shape :', X_train.shape)\n",
    "print('Output shape :', y_train.shape)\n",
    "print('-----Validation set-------')\n",
    "print('Input shape :', X_val.shape)\n",
    "print('Output shape :', y_val.shape)"
   ]
  },
  {
   "cell_type": "code",
   "execution_count": 19,
   "id": "f3d131d4",
   "metadata": {
    "execution": {
     "iopub.execute_input": "2022-12-02T19:30:52.963776Z",
     "iopub.status.busy": "2022-12-02T19:30:52.962563Z",
     "iopub.status.idle": "2022-12-02T19:30:52.972713Z",
     "shell.execute_reply": "2022-12-02T19:30:52.971197Z"
    },
    "papermill": {
     "duration": 0.030851,
     "end_time": "2022-12-02T19:30:52.975502",
     "exception": false,
     "start_time": "2022-12-02T19:30:52.944651",
     "status": "completed"
    },
    "tags": []
   },
   "outputs": [],
   "source": [
    "#Data agumentation\n",
    "#normalizing the predictors\n",
    "X_train, X_val = X_train/255.0 , X_val/255.0\n",
    "# y_train, y_val = to_categorical(y_train),to_categorical(y_val)"
   ]
  },
  {
   "cell_type": "code",
   "execution_count": 20,
   "id": "a3e1cb48",
   "metadata": {
    "execution": {
     "iopub.execute_input": "2022-12-02T19:30:53.011606Z",
     "iopub.status.busy": "2022-12-02T19:30:53.010835Z",
     "iopub.status.idle": "2022-12-02T19:30:53.106780Z",
     "shell.execute_reply": "2022-12-02T19:30:53.105408Z"
    },
    "papermill": {
     "duration": 0.117727,
     "end_time": "2022-12-02T19:30:53.110309",
     "exception": false,
     "start_time": "2022-12-02T19:30:52.992582",
     "status": "completed"
    },
    "tags": []
   },
   "outputs": [
    {
     "name": "stdout",
     "output_type": "stream",
     "text": [
      "Model: \"model_regularized\"\n",
      "_________________________________________________________________\n",
      "Layer (type)                 Output Shape              Param #   \n",
      "=================================================================\n",
      "dense_4 (Dense)              (None, 840, 100)          78500     \n",
      "_________________________________________________________________\n",
      "dense_5 (Dense)              (None, 840, 100)          10100     \n",
      "_________________________________________________________________\n",
      "dropout (Dropout)            (None, 840, 100)          0         \n",
      "_________________________________________________________________\n",
      "dense_6 (Dense)              (None, 840, 100)          10100     \n",
      "_________________________________________________________________\n",
      "dense_7 (Dense)              (None, 840, 1)            101       \n",
      "=================================================================\n",
      "Total params: 98,801\n",
      "Trainable params: 98,801\n",
      "Non-trainable params: 0\n",
      "_________________________________________________________________\n"
     ]
    }
   ],
   "source": [
    "# Regularized model building\n",
    "from tensorflow.keras.regularizers import l2\n",
    "model_regularized = Sequential(name='model_regularized')\n",
    "model_regularized.add(Dense(100,activation='relu',input_shape=(840, 784)))\n",
    "model_regularized.add(Dense(100,activation='relu',kernel_regularizer=l2(0.1)))\n",
    "model_regularized.add(Dropout(0.3))\n",
    "model_regularized.add(Dense(100,activation='relu',kernel_regularizer=l2(0.1)))\n",
    "model_regularized.add(Dense(1,activation='sigmoid'))\n",
    "model_regularized.summary()"
   ]
  },
  {
   "cell_type": "code",
   "execution_count": 21,
   "id": "a7fe00b8",
   "metadata": {
    "execution": {
     "iopub.execute_input": "2022-12-02T19:30:53.147279Z",
     "iopub.status.busy": "2022-12-02T19:30:53.146501Z",
     "iopub.status.idle": "2022-12-02T19:30:53.157183Z",
     "shell.execute_reply": "2022-12-02T19:30:53.156230Z"
    },
    "papermill": {
     "duration": 0.03164,
     "end_time": "2022-12-02T19:30:53.159664",
     "exception": false,
     "start_time": "2022-12-02T19:30:53.128024",
     "status": "completed"
    },
    "tags": []
   },
   "outputs": [],
   "source": [
    "#model compilation\n",
    "from tensorflow.keras import optimizers\n",
    "model_regularized.compile(optimizer=optimizers.Adam(learning_rate=0.001),\n",
    "              loss='binary_crossentropy',\n",
    "              metrics=['accuracy'])"
   ]
  },
  {
   "cell_type": "code",
   "execution_count": 22,
   "id": "9d7ff560",
   "metadata": {
    "execution": {
     "iopub.execute_input": "2022-12-02T19:30:53.195896Z",
     "iopub.status.busy": "2022-12-02T19:30:53.195130Z",
     "iopub.status.idle": "2022-12-02T19:31:01.170214Z",
     "shell.execute_reply": "2022-12-02T19:31:01.169204Z"
    },
    "papermill": {
     "duration": 7.995998,
     "end_time": "2022-12-02T19:31:01.172993",
     "exception": false,
     "start_time": "2022-12-02T19:30:53.176995",
     "status": "completed"
    },
    "tags": []
   },
   "outputs": [],
   "source": [
    "# model training\n",
    "# reduce_lr = tf.keras.callbacks.ReduceLROnPlateau(monitor='val_loss', factor=0.2,\n",
    "#                               patience=2, min_lr=0.001)\n",
    "callback = tf.keras.callbacks.EarlyStopping(monitor='val_loss', patience=5,restore_best_weights=True)\n",
    "model_regularized_history=model_regularized.fit(X_train,y_train,validation_data=(X_val,y_val),epochs=100, batch_size=32,verbose=0,callbacks=callback)"
   ]
  },
  {
   "cell_type": "markdown",
   "id": "a2c5ab57",
   "metadata": {
    "papermill": {
     "duration": 0.016341,
     "end_time": "2022-12-02T19:31:01.206634",
     "exception": false,
     "start_time": "2022-12-02T19:31:01.190293",
     "status": "completed"
    },
    "tags": []
   },
   "source": [
    "<div class='exercise-r'>\n",
    "\n",
    "**2.1.3.2**\n",
    "    \n",
    "</div>"
   ]
  },
  {
   "cell_type": "code",
   "execution_count": 23,
   "id": "b229d441",
   "metadata": {
    "execution": {
     "iopub.execute_input": "2022-12-02T19:31:01.241954Z",
     "iopub.status.busy": "2022-12-02T19:31:01.241542Z",
     "iopub.status.idle": "2022-12-02T19:31:01.248185Z",
     "shell.execute_reply": "2022-12-02T19:31:01.247185Z"
    },
    "papermill": {
     "duration": 0.028895,
     "end_time": "2022-12-02T19:31:01.252338",
     "exception": false,
     "start_time": "2022-12-02T19:31:01.223443",
     "status": "completed"
    },
    "tags": []
   },
   "outputs": [
    {
     "name": "stdout",
     "output_type": "stream",
     "text": [
      "difference between train and validation accuracy on last epoch : 4.3254%\n",
      "difference between train and validation loss on last epoch : 0.1025\n"
     ]
    }
   ],
   "source": [
    "#Calculating training and validation loss and accuracy\n",
    "acc = model_regularized_history.history['accuracy']\n",
    "val_acc = model_regularized_history.history['val_accuracy']\n",
    "loss = model_regularized_history.history['loss']\n",
    "val_loss = model_regularized_history.history['val_loss']\n",
    "print(f'difference between train and validation accuracy on last epoch : {np.abs(acc[-1]-val_acc[-1])*100:.4f}%')\n",
    "print(f'difference between train and validation loss on last epoch : {np.abs(loss[-1]-val_loss[-1]):.4f}')"
   ]
  },
  {
   "cell_type": "markdown",
   "id": "52f66b5d",
   "metadata": {
    "papermill": {
     "duration": 0.016558,
     "end_time": "2022-12-02T19:31:01.287524",
     "exception": false,
     "start_time": "2022-12-02T19:31:01.270966",
     "status": "completed"
    },
    "tags": []
   },
   "source": [
    "<div class='exercise-r'>\n",
    "\n",
    "**2.1.3.3**\n",
    "    \n",
    "</div>"
   ]
  },
  {
   "cell_type": "code",
   "execution_count": 24,
   "id": "81c1836b",
   "metadata": {
    "execution": {
     "iopub.execute_input": "2022-12-02T19:31:01.323278Z",
     "iopub.status.busy": "2022-12-02T19:31:01.322857Z",
     "iopub.status.idle": "2022-12-02T19:31:04.486494Z",
     "shell.execute_reply": "2022-12-02T19:31:04.485446Z"
    },
    "papermill": {
     "duration": 3.184497,
     "end_time": "2022-12-02T19:31:04.488949",
     "exception": false,
     "start_time": "2022-12-02T19:31:01.304452",
     "status": "completed"
    },
    "tags": []
   },
   "outputs": [
    {
     "data": {
      "image/png": "[encoded data removed]",
      "text/plain": [
       "<Figure size 576x576 with 2 Axes>"
      ]
     },
     "metadata": {
      "needs_background": "light"
     },
     "output_type": "display_data"
    }
   ],
   "source": [
    "#plotting training and validation loss and accuracy\n",
    "\n",
    "epochs_range = range(len(acc))\n",
    "\n",
    "plt.figure(figsize=(8, 8))\n",
    "plt.subplot(1 , 2, 1)\n",
    "plt.plot(epochs_range, acc, label='Training Accuracy')\n",
    "plt.plot(epochs_range, val_acc, label='Validation Accuracy')\n",
    "plt.legend(loc='lower right')\n",
    "plt.title('Training and Validation Accuracy')\n",
    "\n",
    "plt.subplot(1, 2, 2)\n",
    "plt.plot(epochs_range, loss, label='Training Loss')\n",
    "plt.plot(epochs_range, val_loss, label='Validation Loss')\n",
    "plt.legend(loc='upper right')\n",
    "plt.title('Training and Validation Loss')\n",
    "plt.show()"
   ]
  },
  {
   "cell_type": "code",
   "execution_count": 25,
   "id": "27fb2144",
   "metadata": {
    "execution": {
     "iopub.execute_input": "2022-12-02T19:31:04.526683Z",
     "iopub.status.busy": "2022-12-02T19:31:04.526275Z",
     "iopub.status.idle": "2022-12-02T19:31:04.539325Z",
     "shell.execute_reply": "2022-12-02T19:31:04.538010Z"
    },
    "papermill": {
     "duration": 0.03486,
     "end_time": "2022-12-02T19:31:04.541425",
     "exception": false,
     "start_time": "2022-12-02T19:31:04.506565",
     "status": "completed"
    },
    "tags": []
   },
   "outputs": [
    {
     "data": {
      "text/html": [
       "<div>\n",
       "<style scoped>\n",
       "    .dataframe tbody tr th:only-of-type {\n",
       "        vertical-align: middle;\n",
       "    }\n",
       "\n",
       "    .dataframe tbody tr th {\n",
       "        vertical-align: top;\n",
       "    }\n",
       "\n",
       "    .dataframe thead th {\n",
       "        text-align: right;\n",
       "    }\n",
       "</style>\n",
       "<table border=\"1\" class=\"dataframe\">\n",
       "  <thead>\n",
       "    <tr style=\"text-align: right;\">\n",
       "      <th></th>\n",
       "      <th>Type</th>\n",
       "      <th>Training Accuracy</th>\n",
       "      <th>Validation Accuracy</th>\n",
       "      <th>Epochs</th>\n",
       "    </tr>\n",
       "  </thead>\n",
       "  <tbody>\n",
       "    <tr>\n",
       "      <th>0</th>\n",
       "      <td>model_overfit</td>\n",
       "      <td>0.99881</td>\n",
       "      <td>0.955556</td>\n",
       "      <td>52</td>\n",
       "    </tr>\n",
       "  </tbody>\n",
       "</table>\n",
       "</div>"
      ],
      "text/plain": [
       "            Type  Training Accuracy  Validation Accuracy  Epochs\n",
       "0  model_overfit            0.99881             0.955556      52"
      ]
     },
     "metadata": {},
     "output_type": "display_data"
    }
   ],
   "source": [
    "#Displaying of training and validation accuracy\n",
    "accuracy_history_df = pd.DataFrame(data=[{\"Type\":\"model_overfit\",\"Training Accuracy\":acc[-1],\"Validation Accuracy\":val_acc[-1],\"Epochs\":len(acc)}])\n",
    "display(accuracy_history_df)"
   ]
  },
  {
   "cell_type": "code",
   "execution_count": 26,
   "id": "7fa2036f",
   "metadata": {
    "execution": {
     "iopub.execute_input": "2022-12-02T19:31:04.580524Z",
     "iopub.status.busy": "2022-12-02T19:31:04.579493Z",
     "iopub.status.idle": "2022-12-02T19:31:04.819963Z",
     "shell.execute_reply": "2022-12-02T19:31:04.818563Z"
    },
    "papermill": {
     "duration": 0.263558,
     "end_time": "2022-12-02T19:31:04.822776",
     "exception": false,
     "start_time": "2022-12-02T19:31:04.559218",
     "status": "completed"
    },
    "tags": []
   },
   "outputs": [
    {
     "name": "stdout",
     "output_type": "stream",
     "text": [
      "27/27 [==============================] - 0s 2ms/step - loss: 0.0875 - accuracy: 1.0000\n",
      "12/12 [==============================] - 0s 2ms/step - loss: 0.1842 - accuracy: 0.9639\n"
     ]
    }
   ],
   "source": [
    "_,train_acc = model_regularized.evaluate(X_train,y_train,batch_size=32)\n",
    "_,vald_acc = model_regularized.evaluate(X_val,y_val,batch_size=32)"
   ]
  },
  {
   "cell_type": "code",
   "execution_count": 27,
   "id": "6ff50bfa",
   "metadata": {
    "execution": {
     "iopub.execute_input": "2022-12-02T19:31:04.861770Z",
     "iopub.status.busy": "2022-12-02T19:31:04.860631Z",
     "iopub.status.idle": "2022-12-02T19:31:04.869496Z",
     "shell.execute_reply": "2022-12-02T19:31:04.868009Z"
    },
    "papermill": {
     "duration": 0.031089,
     "end_time": "2022-12-02T19:31:04.872180",
     "exception": false,
     "start_time": "2022-12-02T19:31:04.841091",
     "status": "completed"
    },
    "tags": []
   },
   "outputs": [
    {
     "name": "stdout",
     "output_type": "stream",
     "text": [
      "Train dataset Accuracy: 100.000%\n",
      "Validation dataset Accuracy: 96.389%\n"
     ]
    }
   ],
   "source": [
    "print(f'Train dataset Accuracy: {train_acc*100:.3f}%')\n",
    "print(f'Validation dataset Accuracy: {vald_acc*100:.3f}%')"
   ]
  },
  {
   "cell_type": "markdown",
   "id": "0d4ed065",
   "metadata": {
    "papermill": {
     "duration": 0.018077,
     "end_time": "2022-12-02T19:31:04.908481",
     "exception": false,
     "start_time": "2022-12-02T19:31:04.890404",
     "status": "completed"
    },
    "tags": []
   },
   "source": [
    "<div class='exercise-r'>\n",
    "\n",
    "**2.1.3.4**\n",
    "    \n",
    "</div>"
   ]
  },
  {
   "cell_type": "code",
   "execution_count": 28,
   "id": "88c9c500",
   "metadata": {
    "execution": {
     "iopub.execute_input": "2022-12-02T19:31:04.950661Z",
     "iopub.status.busy": "2022-12-02T19:31:04.949479Z",
     "iopub.status.idle": "2022-12-02T19:31:04.962089Z",
     "shell.execute_reply": "2022-12-02T19:31:04.961052Z"
    },
    "papermill": {
     "duration": 0.038232,
     "end_time": "2022-12-02T19:31:04.964710",
     "exception": false,
     "start_time": "2022-12-02T19:31:04.926478",
     "status": "completed"
    },
    "tags": []
   },
   "outputs": [],
   "source": [
    "#preprocessing\n",
    "#scaling\n",
    "X_test = test_df/255.0"
   ]
  },
  {
   "cell_type": "code",
   "execution_count": 29,
   "id": "4a8c4565",
   "metadata": {
    "execution": {
     "iopub.execute_input": "2022-12-02T19:31:05.017256Z",
     "iopub.status.busy": "2022-12-02T19:31:05.015861Z",
     "iopub.status.idle": "2022-12-02T19:31:05.290766Z",
     "shell.execute_reply": "2022-12-02T19:31:05.289476Z"
    },
    "papermill": {
     "duration": 0.300334,
     "end_time": "2022-12-02T19:31:05.293168",
     "exception": false,
     "start_time": "2022-12-02T19:31:04.992834",
     "status": "completed"
    },
    "tags": []
   },
   "outputs": [
    {
     "data": {
      "text/html": [
       "<div>\n",
       "<style scoped>\n",
       "    .dataframe tbody tr th:only-of-type {\n",
       "        vertical-align: middle;\n",
       "    }\n",
       "\n",
       "    .dataframe tbody tr th {\n",
       "        vertical-align: top;\n",
       "    }\n",
       "\n",
       "    .dataframe thead th {\n",
       "        text-align: right;\n",
       "    }\n",
       "</style>\n",
       "<table border=\"1\" class=\"dataframe\">\n",
       "  <thead>\n",
       "    <tr style=\"text-align: right;\">\n",
       "      <th></th>\n",
       "      <th>category</th>\n",
       "    </tr>\n",
       "  </thead>\n",
       "  <tbody>\n",
       "    <tr>\n",
       "      <th>0</th>\n",
       "      <td>0.000012</td>\n",
       "    </tr>\n",
       "    <tr>\n",
       "      <th>1</th>\n",
       "      <td>0.456043</td>\n",
       "    </tr>\n",
       "    <tr>\n",
       "      <th>2</th>\n",
       "      <td>0.019714</td>\n",
       "    </tr>\n",
       "    <tr>\n",
       "      <th>3</th>\n",
       "      <td>0.854002</td>\n",
       "    </tr>\n",
       "    <tr>\n",
       "      <th>4</th>\n",
       "      <td>0.008615</td>\n",
       "    </tr>\n",
       "  </tbody>\n",
       "</table>\n",
       "</div>"
      ],
      "text/plain": [
       "   category\n",
       "0  0.000012\n",
       "1  0.456043\n",
       "2  0.019714\n",
       "3  0.854002\n",
       "4  0.008615"
      ]
     },
     "execution_count": 29,
     "metadata": {},
     "output_type": "execute_result"
    }
   ],
   "source": [
    "#predictions\n",
    "prediction = model_regularized.predict(X_test)\n",
    "predicted_label_df = pd.DataFrame(data=prediction, columns=['category']) #converting to dataframe\n",
    "pred_label=predicted_label_df.copy()\n",
    "predicted_label_df.head()"
   ]
  },
  {
   "cell_type": "code",
   "execution_count": 30,
   "id": "1723d464",
   "metadata": {
    "execution": {
     "iopub.execute_input": "2022-12-02T19:31:05.331966Z",
     "iopub.status.busy": "2022-12-02T19:31:05.331203Z",
     "iopub.status.idle": "2022-12-02T19:31:05.343409Z",
     "shell.execute_reply": "2022-12-02T19:31:05.342601Z"
    },
    "papermill": {
     "duration": 0.034004,
     "end_time": "2022-12-02T19:31:05.345473",
     "exception": false,
     "start_time": "2022-12-02T19:31:05.311469",
     "status": "completed"
    },
    "tags": []
   },
   "outputs": [
    {
     "data": {
      "text/html": [
       "<div>\n",
       "<style scoped>\n",
       "    .dataframe tbody tr th:only-of-type {\n",
       "        vertical-align: middle;\n",
       "    }\n",
       "\n",
       "    .dataframe tbody tr th {\n",
       "        vertical-align: top;\n",
       "    }\n",
       "\n",
       "    .dataframe thead th {\n",
       "        text-align: right;\n",
       "    }\n",
       "</style>\n",
       "<table border=\"1\" class=\"dataframe\">\n",
       "  <thead>\n",
       "    <tr style=\"text-align: right;\">\n",
       "      <th></th>\n",
       "      <th>id</th>\n",
       "      <th>category</th>\n",
       "    </tr>\n",
       "  </thead>\n",
       "  <tbody>\n",
       "    <tr>\n",
       "      <th>0</th>\n",
       "      <td>0</td>\n",
       "      <td>0</td>\n",
       "    </tr>\n",
       "    <tr>\n",
       "      <th>1</th>\n",
       "      <td>1</td>\n",
       "      <td>0</td>\n",
       "    </tr>\n",
       "    <tr>\n",
       "      <th>2</th>\n",
       "      <td>2</td>\n",
       "      <td>0</td>\n",
       "    </tr>\n",
       "    <tr>\n",
       "      <th>3</th>\n",
       "      <td>3</td>\n",
       "      <td>1</td>\n",
       "    </tr>\n",
       "    <tr>\n",
       "      <th>4</th>\n",
       "      <td>4</td>\n",
       "      <td>0</td>\n",
       "    </tr>\n",
       "  </tbody>\n",
       "</table>\n",
       "</div>"
      ],
      "text/plain": [
       "   id  category\n",
       "0   0         0\n",
       "1   1         0\n",
       "2   2         0\n",
       "3   3         1\n",
       "4   4         0"
      ]
     },
     "execution_count": 30,
     "metadata": {},
     "output_type": "execute_result"
    }
   ],
   "source": [
    "#predictions to 0 & 1\n",
    "pred_label['category'] = np.where(pred_label['category']>0.5,1,0)\n",
    "pred_label.insert(0, 'id', range(0,len(pred_label)))\n",
    "pred_label.head()"
   ]
  },
  {
   "cell_type": "code",
   "execution_count": 31,
   "id": "6ec39fe2",
   "metadata": {
    "execution": {
     "iopub.execute_input": "2022-12-02T19:31:05.384470Z",
     "iopub.status.busy": "2022-12-02T19:31:05.383614Z",
     "iopub.status.idle": "2022-12-02T19:31:05.389328Z",
     "shell.execute_reply": "2022-12-02T19:31:05.388554Z"
    },
    "papermill": {
     "duration": 0.027503,
     "end_time": "2022-12-02T19:31:05.391385",
     "exception": false,
     "start_time": "2022-12-02T19:31:05.363882",
     "status": "completed"
    },
    "tags": []
   },
   "outputs": [
    {
     "data": {
      "text/plain": [
       "(2000, 2)"
      ]
     },
     "execution_count": 31,
     "metadata": {},
     "output_type": "execute_result"
    }
   ],
   "source": [
    "pred_label.shape"
   ]
  },
  {
   "cell_type": "code",
   "execution_count": 32,
   "id": "f1fa0b74",
   "metadata": {
    "execution": {
     "iopub.execute_input": "2022-12-02T19:31:05.430621Z",
     "iopub.status.busy": "2022-12-02T19:31:05.429995Z",
     "iopub.status.idle": "2022-12-02T19:31:05.439010Z",
     "shell.execute_reply": "2022-12-02T19:31:05.438103Z"
    },
    "papermill": {
     "duration": 0.031371,
     "end_time": "2022-12-02T19:31:05.441331",
     "exception": false,
     "start_time": "2022-12-02T19:31:05.409960",
     "status": "completed"
    },
    "tags": []
   },
   "outputs": [],
   "source": [
    "#storing final csv to Output folder\n",
    "pred_label.to_csv('submission.csv',index=False)"
   ]
  },
  {
   "cell_type": "markdown",
   "id": "fdb57a4b",
   "metadata": {
    "papermill": {
     "duration": 0.018728,
     "end_time": "2022-12-02T19:31:05.478584",
     "exception": false,
     "start_time": "2022-12-02T19:31:05.459856",
     "status": "completed"
    },
    "tags": []
   },
   "source": [
    "<div class='exercise-r'>\n",
    "\n",
    "**2.1.3.5**\n",
    "    \n",
    "</div>"
   ]
  },
  {
   "cell_type": "markdown",
   "id": "6246c661",
   "metadata": {
    "papermill": {
     "duration": 0.018453,
     "end_time": "2022-12-02T19:31:05.517656",
     "exception": false,
     "start_time": "2022-12-02T19:31:05.499203",
     "status": "completed"
    },
    "tags": []
   },
   "source": [
    "**YOUR KAGGLE LEADERBOARD NAME:**"
   ]
  },
  {
   "cell_type": "markdown",
   "id": "578e3d81",
   "metadata": {
    "papermill": {
     "duration": 0.018333,
     "end_time": "2022-12-02T19:31:05.554557",
     "exception": false,
     "start_time": "2022-12-02T19:31:05.536224",
     "status": "completed"
    },
    "tags": []
   },
   "source": [
    "### - Swarnava Bhattacharjee"
   ]
  },
  {
   "cell_type": "markdown",
   "id": "8bed1540",
   "metadata": {
    "papermill": {
     "duration": 0.018351,
     "end_time": "2022-12-02T19:31:05.591456",
     "exception": false,
     "start_time": "2022-12-02T19:31:05.573105",
     "status": "completed"
    },
    "tags": []
   },
   "source": [
    "<div class=\"alert alert-block alert-danger\" style=\"color:black;background-color:#E7F4FA\">\n",
    "\n",
    "<h1>PART 2.2 [30points]: KMNIST Classification using CNNs</h1>\n",
    "\n",
    "[Return to contents](#contents)\n",
    "\n",
    "In this part of Homework, you will now contruct a CNN-based model in order to best classify the Kannada MNIST dataset.\n",
    "\n",
    "**2.2.1 [5 points]** Examine the dataset and prepare the data by appropriately standardizing, reshaping and type-checking. \n",
    "\n",
    "**2.2.2 [20 points]** Construct a simple CNN model - with not more than 10 layers. Please ensure that you use the following layers/parameters in order to contruct the model -\n",
    "1. Maxpooling\n",
    "2. Dense layers\n",
    "3. Regularization methods such as Adam, Drop out, Batch Normalization etc. \n",
    "\n",
    "**2.2.3 [5 points]** Perform error analysis on the predictions of your model and report classification accuracy. This should also include loss plots that allow for comparision of the model performance across the epochs. Conclusively, provide a detailed inference of why certain misclassifications would have taken place.\n",
    "\n",
    "\n",
    "\n",
    "</div>"
   ]
  },
  {
   "cell_type": "markdown",
   "id": "04f6629f",
   "metadata": {
    "papermill": {
     "duration": 0.018099,
     "end_time": "2022-12-02T19:31:05.628278",
     "exception": false,
     "start_time": "2022-12-02T19:31:05.610179",
     "status": "completed"
    },
    "tags": []
   },
   "source": [
    "<a id=\"part2.2solutions\"></a>\n",
    "\n",
    "\n",
    "## PART 2.2 Solutions\n",
    "\n",
    "[Return to contents](#contents)\n"
   ]
  },
  {
   "cell_type": "markdown",
   "id": "8508c2fd",
   "metadata": {
    "papermill": {
     "duration": 0.018263,
     "end_time": "2022-12-02T19:31:05.665101",
     "exception": false,
     "start_time": "2022-12-02T19:31:05.646838",
     "status": "completed"
    },
    "tags": []
   },
   "source": [
    "## 2.2.1"
   ]
  },
  {
   "cell_type": "code",
   "execution_count": 33,
   "id": "c8703e2b",
   "metadata": {
    "execution": {
     "iopub.execute_input": "2022-12-02T19:31:05.704288Z",
     "iopub.status.busy": "2022-12-02T19:31:05.703819Z",
     "iopub.status.idle": "2022-12-02T19:31:05.721245Z",
     "shell.execute_reply": "2022-12-02T19:31:05.719578Z"
    },
    "papermill": {
     "duration": 0.040893,
     "end_time": "2022-12-02T19:31:05.724661",
     "exception": false,
     "start_time": "2022-12-02T19:31:05.683768",
     "status": "completed"
    },
    "tags": []
   },
   "outputs": [
    {
     "name": "stdout",
     "output_type": "stream",
     "text": [
      "---------Train set--------\n",
      "Input shape : (960, 784)\n",
      "Output shape : (960,)\n",
      "-----Validation set-------\n",
      "Input shape : (240, 784)\n",
      "Output shape : (240,)\n"
     ]
    }
   ],
   "source": [
    "# train validation split\n",
    "X_train, X_val, y_train, y_val = train_test_split(X,y, train_size=0.8, random_state=42,stratify=train_df.output)\n",
    "print('---------Train set--------')\n",
    "print('Input shape :', X_train.shape)\n",
    "print('Output shape :', y_train.shape)\n",
    "print('-----Validation set-------')\n",
    "print('Input shape :', X_val.shape)\n",
    "print('Output shape :', y_val.shape)"
   ]
  },
  {
   "cell_type": "code",
   "execution_count": 34,
   "id": "0fbd5465",
   "metadata": {
    "execution": {
     "iopub.execute_input": "2022-12-02T19:31:05.764647Z",
     "iopub.status.busy": "2022-12-02T19:31:05.763810Z",
     "iopub.status.idle": "2022-12-02T19:31:05.771958Z",
     "shell.execute_reply": "2022-12-02T19:31:05.771123Z"
    },
    "papermill": {
     "duration": 0.030785,
     "end_time": "2022-12-02T19:31:05.774381",
     "exception": false,
     "start_time": "2022-12-02T19:31:05.743596",
     "status": "completed"
    },
    "tags": []
   },
   "outputs": [],
   "source": [
    "# standerdizing,reshaping and type checking\n",
    "height = 28\n",
    "width = 28\n",
    "channel = 1\n",
    "# Standerdizing and data generator creation\n",
    "train_datagen = ImageDataGenerator(rescale=1./255,\n",
    "                            rotation_range=10,\n",
    "                             shear_range=0.2,\n",
    "                             zoom_range=0.2)\n",
    "val_datagen = ImageDataGenerator(rescale=1./255)\n",
    "# reshaping\n",
    "X_train = X_train.values.reshape((X_train.shape[0],height,width,channel))\n",
    "X_val = X_val.values.reshape((X_val.shape[0],height,width,channel))\n",
    "# type conversion\n",
    "y_train, y_val = to_categorical(y_train),to_categorical(y_val)"
   ]
  },
  {
   "cell_type": "code",
   "execution_count": 35,
   "id": "cadad838",
   "metadata": {
    "execution": {
     "iopub.execute_input": "2022-12-02T19:31:05.814311Z",
     "iopub.status.busy": "2022-12-02T19:31:05.813831Z",
     "iopub.status.idle": "2022-12-02T19:31:05.823342Z",
     "shell.execute_reply": "2022-12-02T19:31:05.822300Z"
    },
    "papermill": {
     "duration": 0.03262,
     "end_time": "2022-12-02T19:31:05.825974",
     "exception": false,
     "start_time": "2022-12-02T19:31:05.793354",
     "status": "completed"
    },
    "tags": []
   },
   "outputs": [],
   "source": [
    "#fitting the data generators\n",
    "val_datagen.fit(X_val)\n",
    "train_datagen.fit(X_train)"
   ]
  },
  {
   "cell_type": "code",
   "execution_count": 36,
   "id": "47534807",
   "metadata": {
    "execution": {
     "iopub.execute_input": "2022-12-02T19:31:05.865853Z",
     "iopub.status.busy": "2022-12-02T19:31:05.865467Z",
     "iopub.status.idle": "2022-12-02T19:31:05.882738Z",
     "shell.execute_reply": "2022-12-02T19:31:05.881128Z"
    },
    "papermill": {
     "duration": 0.039984,
     "end_time": "2022-12-02T19:31:05.885509",
     "exception": false,
     "start_time": "2022-12-02T19:31:05.845525",
     "status": "completed"
    },
    "tags": []
   },
   "outputs": [
    {
     "name": "stdout",
     "output_type": "stream",
     "text": [
      "X_batch shape: (32, 28, 28, 1)\n",
      "y_batch shape: (32, 2)\n"
     ]
    }
   ],
   "source": [
    "# creating flow of training batches \n",
    "train_generator = train_datagen.flow(X_train, y_train, batch_size=32)\n",
    "val_generator = val_datagen.flow(X_val, y_val, batch_size=32)\n",
    "X_batch , y_batch = train_generator.next()\n",
    "print('X_batch shape:', X_batch.shape)\n",
    "print('y_batch shape:', y_batch.shape)"
   ]
  },
  {
   "cell_type": "markdown",
   "id": "e22eebc8",
   "metadata": {
    "papermill": {
     "duration": 0.019048,
     "end_time": "2022-12-02T19:31:05.923638",
     "exception": false,
     "start_time": "2022-12-02T19:31:05.904590",
     "status": "completed"
    },
    "tags": []
   },
   "source": [
    "## 2.2.2"
   ]
  },
  {
   "cell_type": "code",
   "execution_count": 37,
   "id": "8747a44a",
   "metadata": {
    "execution": {
     "iopub.execute_input": "2022-12-02T19:31:05.964724Z",
     "iopub.status.busy": "2022-12-02T19:31:05.963487Z",
     "iopub.status.idle": "2022-12-02T19:31:06.072484Z",
     "shell.execute_reply": "2022-12-02T19:31:06.071235Z"
    },
    "papermill": {
     "duration": 0.132578,
     "end_time": "2022-12-02T19:31:06.075305",
     "exception": false,
     "start_time": "2022-12-02T19:31:05.942727",
     "status": "completed"
    },
    "tags": []
   },
   "outputs": [],
   "source": [
    "#Building the CNN model\n",
    "from tensorflow.keras.regularizers import l2\n",
    "CNN_model = Sequential(name='CNN')\n",
    "CNN_model.add(Conv2D(32,(2,2),activation='relu',input_shape=(28,28,1)))\n",
    "CNN_model.add(Conv2D(64,(2,2),activation='relu'))\n",
    "CNN_model.add(BatchNormalization())\n",
    "CNN_model.add(Dropout(0.2))\n",
    "CNN_model.add(Conv2D(64,(2,2),activation='relu'))\n",
    "CNN_model.add(MaxPooling2D((2,2)))\n",
    "CNN_model.add(BatchNormalization())\n",
    "CNN_model.add(Dropout(0.2))\n",
    "CNN_model.add(Flatten())\n",
    "CNN_model.add(Dense(64,kernel_regularizer=l2(0.001)))\n",
    "CNN_model.add(Dropout(0.2))\n",
    "CNN_model.add(Dense(2,activation='sigmoid'))"
   ]
  },
  {
   "cell_type": "code",
   "execution_count": 38,
   "id": "db3d7c19",
   "metadata": {
    "execution": {
     "iopub.execute_input": "2022-12-02T19:31:06.116062Z",
     "iopub.status.busy": "2022-12-02T19:31:06.115632Z",
     "iopub.status.idle": "2022-12-02T19:31:06.123770Z",
     "shell.execute_reply": "2022-12-02T19:31:06.122584Z"
    },
    "papermill": {
     "duration": 0.031568,
     "end_time": "2022-12-02T19:31:06.126756",
     "exception": false,
     "start_time": "2022-12-02T19:31:06.095188",
     "status": "completed"
    },
    "tags": []
   },
   "outputs": [
    {
     "name": "stdout",
     "output_type": "stream",
     "text": [
      "Model: \"CNN\"\n",
      "_________________________________________________________________\n",
      "Layer (type)                 Output Shape              Param #   \n",
      "=================================================================\n",
      "conv2d (Conv2D)              (None, 27, 27, 32)        160       \n",
      "_________________________________________________________________\n",
      "conv2d_1 (Conv2D)            (None, 26, 26, 64)        8256      \n",
      "_________________________________________________________________\n",
      "batch_normalization (BatchNo (None, 26, 26, 64)        256       \n",
      "_________________________________________________________________\n",
      "dropout_1 (Dropout)          (None, 26, 26, 64)        0         \n",
      "_________________________________________________________________\n",
      "conv2d_2 (Conv2D)            (None, 25, 25, 64)        16448     \n",
      "_________________________________________________________________\n",
      "max_pooling2d (MaxPooling2D) (None, 12, 12, 64)        0         \n",
      "_________________________________________________________________\n",
      "batch_normalization_1 (Batch (None, 12, 12, 64)        256       \n",
      "_________________________________________________________________\n",
      "dropout_2 (Dropout)          (None, 12, 12, 64)        0         \n",
      "_________________________________________________________________\n",
      "flatten (Flatten)            (None, 9216)              0         \n",
      "_________________________________________________________________\n",
      "dense_8 (Dense)              (None, 64)                589888    \n",
      "_________________________________________________________________\n",
      "dropout_3 (Dropout)          (None, 64)                0         \n",
      "_________________________________________________________________\n",
      "dense_9 (Dense)              (None, 2)                 130       \n",
      "=================================================================\n",
      "Total params: 615,394\n",
      "Trainable params: 615,138\n",
      "Non-trainable params: 256\n",
      "_________________________________________________________________\n"
     ]
    }
   ],
   "source": [
    "#summary of the model\n",
    "CNN_model.summary()"
   ]
  },
  {
   "cell_type": "code",
   "execution_count": 39,
   "id": "ec5d7e89",
   "metadata": {
    "execution": {
     "iopub.execute_input": "2022-12-02T19:31:06.166551Z",
     "iopub.status.busy": "2022-12-02T19:31:06.165903Z",
     "iopub.status.idle": "2022-12-02T19:31:06.176723Z",
     "shell.execute_reply": "2022-12-02T19:31:06.175361Z"
    },
    "papermill": {
     "duration": 0.033683,
     "end_time": "2022-12-02T19:31:06.179418",
     "exception": false,
     "start_time": "2022-12-02T19:31:06.145735",
     "status": "completed"
    },
    "tags": []
   },
   "outputs": [],
   "source": [
    "#definig callbacks and optimization of the CNN model\n",
    "from tensorflow.keras import optimizers\n",
    "callback = tf.keras.callbacks.EarlyStopping(monitor='val_loss',\n",
    "                                            patience=10,\n",
    "                                            restore_best_weights=True)\n",
    "CNN_model.compile(optimizer=optimizers.Adam(learning_rate=0.001),\n",
    "              loss='categorical_crossentropy',\n",
    "              metrics=['accuracy'])"
   ]
  },
  {
   "cell_type": "code",
   "execution_count": 40,
   "id": "d885c697",
   "metadata": {
    "execution": {
     "iopub.execute_input": "2022-12-02T19:31:06.222232Z",
     "iopub.status.busy": "2022-12-02T19:31:06.221794Z",
     "iopub.status.idle": "2022-12-02T19:31:31.975600Z",
     "shell.execute_reply": "2022-12-02T19:31:31.974497Z"
    },
    "papermill": {
     "duration": 25.779514,
     "end_time": "2022-12-02T19:31:31.978324",
     "exception": false,
     "start_time": "2022-12-02T19:31:06.198810",
     "status": "completed"
    },
    "tags": []
   },
   "outputs": [
    {
     "name": "stdout",
     "output_type": "stream",
     "text": [
      "Epoch 1/50\n",
      "30/30 [==============================] - 3s 77ms/step - loss: 1.4187 - accuracy: 0.8417 - val_loss: 0.7762 - val_accuracy: 0.9167\n",
      "Epoch 2/50\n",
      "30/30 [==============================] - 2s 71ms/step - loss: 0.7023 - accuracy: 0.9229 - val_loss: 0.9752 - val_accuracy: 0.5167\n",
      "Epoch 3/50\n",
      "30/30 [==============================] - 2s 70ms/step - loss: 0.6368 - accuracy: 0.9198 - val_loss: 2.0117 - val_accuracy: 0.5167\n",
      "Epoch 4/50\n",
      "30/30 [==============================] - 2s 74ms/step - loss: 0.5893 - accuracy: 0.9302 - val_loss: 4.5103 - val_accuracy: 0.5167\n",
      "Epoch 5/50\n",
      "30/30 [==============================] - 2s 70ms/step - loss: 0.4657 - accuracy: 0.9375 - val_loss: 3.7160 - val_accuracy: 0.5167\n",
      "Epoch 6/50\n",
      "30/30 [==============================] - 2s 69ms/step - loss: 0.3788 - accuracy: 0.9521 - val_loss: 4.2536 - val_accuracy: 0.5167\n",
      "Epoch 7/50\n",
      "30/30 [==============================] - 2s 68ms/step - loss: 0.3930 - accuracy: 0.9500 - val_loss: 3.1340 - val_accuracy: 0.5167\n",
      "Epoch 8/50\n",
      "30/30 [==============================] - 2s 69ms/step - loss: 0.3231 - accuracy: 0.9583 - val_loss: 3.1147 - val_accuracy: 0.5167\n",
      "Epoch 9/50\n",
      "30/30 [==============================] - 2s 71ms/step - loss: 0.3929 - accuracy: 0.9469 - val_loss: 3.0562 - val_accuracy: 0.5167\n",
      "Epoch 10/50\n",
      "30/30 [==============================] - 2s 69ms/step - loss: 0.3100 - accuracy: 0.9583 - val_loss: 4.2452 - val_accuracy: 0.5167\n",
      "Epoch 11/50\n",
      "30/30 [==============================] - 2s 69ms/step - loss: 0.2743 - accuracy: 0.9635 - val_loss: 5.9936 - val_accuracy: 0.5167\n"
     ]
    }
   ],
   "source": [
    "#training the model ove epochs\n",
    "epochs = 50\n",
    "CNN_model_history = CNN_model.fit_generator(train_generator,\n",
    "                                           steps_per_epoch=len(train_generator),\n",
    "                                           epochs=epochs,\n",
    "                                           verbose=1,\n",
    "                                            validation_data = val_generator,\n",
    "                                            validation_steps = len(val_generator),\n",
    "                                           callbacks=callback)"
   ]
  },
  {
   "cell_type": "markdown",
   "id": "8b9c696b",
   "metadata": {
    "papermill": {
     "duration": 0.039471,
     "end_time": "2022-12-02T19:31:32.057730",
     "exception": false,
     "start_time": "2022-12-02T19:31:32.018259",
     "status": "completed"
    },
    "tags": []
   },
   "source": [
    "## 2.2.3"
   ]
  },
  {
   "cell_type": "code",
   "execution_count": 41,
   "id": "99f3f6a9",
   "metadata": {
    "execution": {
     "iopub.execute_input": "2022-12-02T19:31:32.138970Z",
     "iopub.status.busy": "2022-12-02T19:31:32.138557Z",
     "iopub.status.idle": "2022-12-02T19:31:32.145440Z",
     "shell.execute_reply": "2022-12-02T19:31:32.144389Z"
    },
    "papermill": {
     "duration": 0.050459,
     "end_time": "2022-12-02T19:31:32.147880",
     "exception": false,
     "start_time": "2022-12-02T19:31:32.097421",
     "status": "completed"
    },
    "tags": []
   },
   "outputs": [
    {
     "data": {
      "text/plain": [
       "dict_keys(['loss', 'accuracy', 'val_loss', 'val_accuracy'])"
      ]
     },
     "execution_count": 41,
     "metadata": {},
     "output_type": "execute_result"
    }
   ],
   "source": [
    "CNN_model_history.history.keys()"
   ]
  },
  {
   "cell_type": "code",
   "execution_count": 42,
   "id": "b36f2cd6",
   "metadata": {
    "execution": {
     "iopub.execute_input": "2022-12-02T19:31:32.228289Z",
     "iopub.status.busy": "2022-12-02T19:31:32.227876Z",
     "iopub.status.idle": "2022-12-02T19:31:32.569439Z",
     "shell.execute_reply": "2022-12-02T19:31:32.568120Z"
    },
    "papermill": {
     "duration": 0.384875,
     "end_time": "2022-12-02T19:31:32.572022",
     "exception": false,
     "start_time": "2022-12-02T19:31:32.187147",
     "status": "completed"
    },
    "tags": []
   },
   "outputs": [
    {
     "data": {
      "image/png": "[encoded data removed]",
      "text/plain": [
       "<Figure size 576x576 with 2 Axes>"
      ]
     },
     "metadata": {
      "needs_background": "light"
     },
     "output_type": "display_data"
    }
   ],
   "source": [
    "#plotting training and validation loss and accuracy\n",
    "acc = CNN_model_history.history['accuracy']\n",
    "val_acc = CNN_model_history.history['val_accuracy']\n",
    "\n",
    "loss = CNN_model_history.history['loss']\n",
    "val_loss = CNN_model_history.history['val_loss']\n",
    "\n",
    "epochs_range = range(len(acc))\n",
    "\n",
    "plt.figure(figsize=(8, 8))\n",
    "plt.subplot(1 , 2, 1)\n",
    "plt.plot(epochs_range, acc, label='Training Accuracy')\n",
    "plt.plot(epochs_range, val_acc, label='Validation Accuracy')\n",
    "plt.legend(loc='lower right')\n",
    "plt.title('Training and Validation Accuracy')\n",
    "\n",
    "plt.subplot(1, 2, 2)\n",
    "plt.plot(epochs_range, loss, label='Training Loss')\n",
    "plt.plot(epochs_range, val_loss, label='Validation Loss')\n",
    "plt.legend(loc='upper right')\n",
    "plt.title('Training and Validation Loss')\n",
    "plt.show()"
   ]
  },
  {
   "cell_type": "code",
   "execution_count": 43,
   "id": "178a56ac",
   "metadata": {
    "execution": {
     "iopub.execute_input": "2022-12-02T19:31:32.654239Z",
     "iopub.status.busy": "2022-12-02T19:31:32.653546Z",
     "iopub.status.idle": "2022-12-02T19:31:32.667195Z",
     "shell.execute_reply": "2022-12-02T19:31:32.665895Z"
    },
    "papermill": {
     "duration": 0.05764,
     "end_time": "2022-12-02T19:31:32.669670",
     "exception": false,
     "start_time": "2022-12-02T19:31:32.612030",
     "status": "completed"
    },
    "tags": []
   },
   "outputs": [
    {
     "data": {
      "text/html": [
       "<div>\n",
       "<style scoped>\n",
       "    .dataframe tbody tr th:only-of-type {\n",
       "        vertical-align: middle;\n",
       "    }\n",
       "\n",
       "    .dataframe tbody tr th {\n",
       "        vertical-align: top;\n",
       "    }\n",
       "\n",
       "    .dataframe thead th {\n",
       "        text-align: right;\n",
       "    }\n",
       "</style>\n",
       "<table border=\"1\" class=\"dataframe\">\n",
       "  <thead>\n",
       "    <tr style=\"text-align: right;\">\n",
       "      <th></th>\n",
       "      <th>Type</th>\n",
       "      <th>Training Accuracy</th>\n",
       "      <th>Validation Accuracy</th>\n",
       "      <th>Epochs</th>\n",
       "    </tr>\n",
       "  </thead>\n",
       "  <tbody>\n",
       "    <tr>\n",
       "      <th>0</th>\n",
       "      <td>CNN_Model</td>\n",
       "      <td>0.963542</td>\n",
       "      <td>0.516667</td>\n",
       "      <td>11</td>\n",
       "    </tr>\n",
       "  </tbody>\n",
       "</table>\n",
       "</div>"
      ],
      "text/plain": [
       "        Type  Training Accuracy  Validation Accuracy  Epochs\n",
       "0  CNN_Model           0.963542             0.516667      11"
      ]
     },
     "metadata": {},
     "output_type": "display_data"
    }
   ],
   "source": [
    "#Displaying of training and validation accuracy\n",
    "accuracy_history_df = pd.DataFrame(data=[{\"Type\":\"CNN_Model\",\"Training Accuracy\":acc[-1],\"Validation Accuracy\":val_acc[-1],\"Epochs\":len(acc)}])\n",
    "display(accuracy_history_df)"
   ]
  },
  {
   "cell_type": "markdown",
   "id": "b8fde7c0",
   "metadata": {
    "papermill": {
     "duration": 0.041133,
     "end_time": "2022-12-02T19:31:32.751640",
     "exception": false,
     "start_time": "2022-12-02T19:31:32.710507",
     "status": "completed"
    },
    "tags": []
   },
   "source": [
    "**Error Analysis Inference:**\n",
    "- As this is a noisy dataset that may lead to some misclassification(this may happen due to improper data collection techinques)\n",
    "- This model can further be improved by appling:\n",
    "    - The problem of overfitting can be solved by tuning layer,neurons or tuning dropout layers.\n",
    "    - Hyperparameter tuning can help the model further."
   ]
  }
 ],
 "metadata": {
  "kernelspec": {
   "display_name": "Python 3",
   "language": "python",
   "name": "python3"
  },
  "language_info": {
   "codemirror_mode": {
    "name": "ipython",
    "version": 3
   },
   "file_extension": ".py",
   "mimetype": "text/x-python",
   "name": "python",
   "nbconvert_exporter": "python",
   "pygments_lexer": "ipython3",
   "version": "3.7.12"
  },
  "papermill": {
   "default_parameters": {},
   "duration": 75.248831,
   "end_time": "2022-12-02T19:31:36.284047",
   "environment_variables": {},
   "exception": null,
   "input_path": "__notebook__.ipynb",
   "output_path": "__notebook__.ipynb",
   "parameters": {},
   "start_time": "2022-12-02T19:30:21.035216",
   "version": "2.3.4"
  }
 },
 "nbformat": 4,
 "nbformat_minor": 5
}
